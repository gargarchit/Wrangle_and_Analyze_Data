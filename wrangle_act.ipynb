{
 "cells": [
  {
   "cell_type": "markdown",
   "metadata": {},
   "source": [
    "# Wrangle and Analyze Data\n",
    "\n",
    "## Introduction\n",
    "\n",
    "This project focused on wrangling data from the WeRateDogs Twitter account using Python, documented in a Jupyter Notebook (wrangle_act.ipynb). This Twitter account rates dogs with humorous commentary. The rating denominator is usually 10, however, the numerators are usually greater than 10. They’re Good Dogs Brent wrangle WeRateDogs Twitter data to create interesting and trustworthy analyses and visualizations. WeRateDogs has over 4 million followers and has received international media coverage.\n",
    "\n",
    "WeRateDogs downloaded their Twitter archive and sent it to Udacity via email exclusively for us to use in this project. This archive contains basic tweet data (tweet ID, timestamp, text, etc.) for all 5000+ of their tweets as they stood on August 1, 2017.\n",
    "\n",
    "The goal of this project is to wrangle the WeRateDogs Twitter data to create interesting and trustworthy analyses and visualizations. The challenge lies in the fact that the Twitter archive is great, but it only contains very basic tweet information that comes in JSON format. I needed to gather, asses and clean the Twitter data for a worthy analysis and visualization.\n",
    "\n",
    "### The Data\n",
    "**Enhanced Twitter Archive**\n",
    "\n",
    "The WeRateDogs Twitter archive contains basic tweet data for all 5000+ of their tweets, but not everything. One column the archive does contain though: each tweet's text, which I used to extract rating, dog name, and dog \"stage\" (i.e. doggo, floofer, pupper, and puppo) to make this Twitter archive \"enhanced.\".We manually downloaded this file manually by clicking the following link: twitter_archive_enhanced.csv\n",
    "\n",
    "**Image Predictions File**\n",
    "\n",
    "he tweet image predictions, i.e., what breed of dog (or other object, animal, etc.) is present in each tweet according to a neural network. This file (image_predictions.tsv) hosted on Udacity's servers and we downloaded it programmatically using python Requests library on the following (URL of the file: https://d17h27t6h515a5.cloudfront.net/topher/2017/August/599fd2ad_image-predictions/image-predictions.tsv)\n",
    "\n",
    "**Twitter API**\n",
    "\n",
    "Back to the basic-ness of Twitter archives: retweet count and favorite count are two of the notable column omissions. Fortunately, this additional data can be gathered by anyone from Twitter's API. Well, \"anyone\" who has access to data for the 3000 most recent tweets, at least. But we, because we have the WeRateDogs Twitter archive and specifically the tweet IDs within it, can gather this data for all 5000+. And guess what? We're going to query Twitter's API to gather this valuable data.\n",
    "\n",
    "\n",
    "### Key Points\n",
    "\n",
    "Before we start, herea are few points to keep in mind when data wrangling for this project:\n",
    "\n",
    "- We only want original ratings (no retweets) that have images. Though there are 5000+ tweets in the dataset, not all are dog ratings and some are retweets.\n",
    "\n",
    "- Fully assessing and cleaning the entire dataset requires exceptional effort so only a subset of its issues (eight (8) quality issues and two (2) tidiness issues at minimum) need to be assessed and cleaned.\n",
    "\n",
    "- Cleaning includes merging individual pieces of data according to the rules of tidy data.\n",
    "\n",
    "- The fact that the rating numerators are greater than the denominators does not need to be cleaned. This unique rating system is a big part of the popularity of WeRateDogs.\n"
   ]
  },
  {
   "cell_type": "code",
   "execution_count": 1,
   "metadata": {},
   "outputs": [],
   "source": [
    "import numpy as np\n",
    "import pandas as pd\n",
    "import matplotlib.pyplot as plt\n",
    "import seaborn as sns\n",
    "import requests\n",
    "import tweepy\n",
    "import json\n",
    "from timeit import default_timer as timer"
   ]
  },
  {
   "cell_type": "markdown",
   "metadata": {},
   "source": [
    "## Gathering Data\n"
   ]
  },
  {
   "cell_type": "markdown",
   "metadata": {},
   "source": [
    "**loading the twitter-archive-enhanced.csv into a DataFrame [WeRateDogs Twitter archive]**"
   ]
  },
  {
   "cell_type": "code",
   "execution_count": 2,
   "metadata": {},
   "outputs": [],
   "source": [
    "archive_df = pd.read_csv('twitter-archive-enhanced.csv')"
   ]
  },
  {
   "cell_type": "markdown",
   "metadata": {},
   "source": [
    "**Loading the tweet image predictions from Udacity's servers**"
   ]
  },
  {
   "cell_type": "code",
   "execution_count": 3,
   "metadata": {},
   "outputs": [],
   "source": [
    "r = requests.get('https://d17h27t6h515a5.cloudfront.net/topher/2017/August/599fd2ad_image-predictions/image-predictions.tsv')\n",
    "\n",
    "with open('image-predictions.tsv', mode='wb') as file:\n",
    "    file.write(r.content)"
   ]
  },
  {
   "cell_type": "markdown",
   "metadata": {},
   "source": [
    "Here I tried printing r.content and it looks like `b\"tweet_id\\tjpg_url\\timg_num\\tp1\\tp1_conf\\tp1_dog\\tp2\\tp2_conf`\n",
    "So, while reading this as CSV, we need to use \\t sep"
   ]
  },
  {
   "cell_type": "code",
   "execution_count": 4,
   "metadata": {},
   "outputs": [],
   "source": [
    "image_pred_df = pd.read_csv('image-predictions.tsv', sep='\\t')"
   ]
  },
  {
   "cell_type": "markdown",
   "metadata": {},
   "source": [
    "**Loading Favorite count and retweet count from Twitter**"
   ]
  },
  {
   "cell_type": "code",
   "execution_count": 256,
   "metadata": {},
   "outputs": [],
   "source": [
    "consumer_key ='xxxx'\n",
    "consumer_secret ='xxxx'\n",
    "access_token ='xxxx'\n",
    "access_secret = 'xxxx'"
   ]
  },
  {
   "cell_type": "code",
   "execution_count": 6,
   "metadata": {},
   "outputs": [],
   "source": [
    "auth = tweepy.OAuthHandler(consumer_key, consumer_secret)\n",
    "auth.set_access_token(access_token, access_secret)\n",
    "\n",
    "api = tweepy.API(auth, wait_on_rate_limit=True)"
   ]
  },
  {
   "cell_type": "code",
   "execution_count": 7,
   "metadata": {},
   "outputs": [
    {
     "name": "stdout",
     "output_type": "stream",
     "text": [
      "888202515573088257 : [{'code': 144, 'message': 'No status found with that ID.'}]\n",
      "873697596434513921 : [{'code': 144, 'message': 'No status found with that ID.'}]\n",
      "872668790621863937 : [{'code': 144, 'message': 'No status found with that ID.'}]\n",
      "872261713294495745 : [{'code': 144, 'message': 'No status found with that ID.'}]\n",
      "869988702071779329 : [{'code': 144, 'message': 'No status found with that ID.'}]\n",
      "866816280283807744 : [{'code': 144, 'message': 'No status found with that ID.'}]\n",
      "861769973181624320 : [{'code': 144, 'message': 'No status found with that ID.'}]\n",
      "856602993587888130 : [{'code': 144, 'message': 'No status found with that ID.'}]\n",
      "851953902622658560 : [{'code': 144, 'message': 'No status found with that ID.'}]\n",
      "845459076796616705 : [{'code': 144, 'message': 'No status found with that ID.'}]\n",
      "844704788403113984 : [{'code': 144, 'message': 'No status found with that ID.'}]\n",
      "842892208864923648 : [{'code': 144, 'message': 'No status found with that ID.'}]\n",
      "837366284874571778 : [{'code': 144, 'message': 'No status found with that ID.'}]\n",
      "837012587749474308 : [{'code': 144, 'message': 'No status found with that ID.'}]\n",
      "829374341691346946 : [{'code': 144, 'message': 'No status found with that ID.'}]\n",
      "827228250799742977 : [{'code': 144, 'message': 'No status found with that ID.'}]\n",
      "812747805718642688 : [{'code': 144, 'message': 'No status found with that ID.'}]\n",
      "802247111496568832 : [{'code': 144, 'message': 'No status found with that ID.'}]\n",
      "779123168116150273 : [{'code': 144, 'message': 'No status found with that ID.'}]\n",
      "775096608509886464 : [{'code': 144, 'message': 'No status found with that ID.'}]\n",
      "771004394259247104 : [{'code': 179, 'message': 'Sorry, you are not authorized to see this status.'}]\n",
      "770743923962707968 : [{'code': 144, 'message': 'No status found with that ID.'}]\n",
      "759566828574212096 : [{'code': 144, 'message': 'No status found with that ID.'}]\n",
      "754011816964026368 : [{'code': 144, 'message': 'No status found with that ID.'}]\n",
      "680055455951884288 : [{'code': 144, 'message': 'No status found with that ID.'}]\n"
     ]
    }
   ],
   "source": [
    "start = timer()\n",
    "df_list = []\n",
    "errors = []\n",
    "for id in archive_df['tweet_id']:\n",
    "    try:\n",
    "        tweet = api.get_status(id, tweet_mode='extended')\n",
    "        df_list.append({'tweet_id': str(tweet.id),\n",
    "                        'favorite_count': int(tweet.favorite_count),\n",
    "                        'retweet_count': int(tweet.retweet_count)})\n",
    "    except Exception as e:\n",
    "        print(str(id) + \" : \" + str(e))\n",
    "        errors.append(id)\n",
    "end = timer()"
   ]
  },
  {
   "cell_type": "code",
   "execution_count": 175,
   "metadata": {},
   "outputs": [
    {
     "name": "stdout",
     "output_type": "stream",
     "text": [
      "Total query time: 1910.5672976619999 secs\n"
     ]
    }
   ],
   "source": [
    "print(\"Total query time:\",end - start, \"secs\")"
   ]
  },
  {
   "cell_type": "code",
   "execution_count": 176,
   "metadata": {},
   "outputs": [],
   "source": [
    "#saving the df_list to JSON file\n",
    "with open('tweet_json.txt', 'w') as outfile:  \n",
    "    json.dump(df_list, outfile)\n",
    "    \n",
    "# loading the JSON file as a dataframe\n",
    "with open('tweet_json.txt', 'r') as file:\n",
    "    tweet_counts_df = pd.DataFrame(json.load(file), columns=['tweet_id', 'favorite_count', 'retweet_count'])"
   ]
  },
  {
   "cell_type": "markdown",
   "metadata": {},
   "source": [
    "## Assessing Data\n"
   ]
  },
  {
   "cell_type": "markdown",
   "metadata": {},
   "source": [
    "### Access archive_df"
   ]
  },
  {
   "cell_type": "code",
   "execution_count": 177,
   "metadata": {},
   "outputs": [
    {
     "data": {
      "text/html": [
       "<div>\n",
       "<style scoped>\n",
       "    .dataframe tbody tr th:only-of-type {\n",
       "        vertical-align: middle;\n",
       "    }\n",
       "\n",
       "    .dataframe tbody tr th {\n",
       "        vertical-align: top;\n",
       "    }\n",
       "\n",
       "    .dataframe thead th {\n",
       "        text-align: right;\n",
       "    }\n",
       "</style>\n",
       "<table border=\"1\" class=\"dataframe\">\n",
       "  <thead>\n",
       "    <tr style=\"text-align: right;\">\n",
       "      <th></th>\n",
       "      <th>tweet_id</th>\n",
       "      <th>in_reply_to_status_id</th>\n",
       "      <th>in_reply_to_user_id</th>\n",
       "      <th>timestamp</th>\n",
       "      <th>source</th>\n",
       "      <th>text</th>\n",
       "      <th>retweeted_status_id</th>\n",
       "      <th>retweeted_status_user_id</th>\n",
       "      <th>retweeted_status_timestamp</th>\n",
       "      <th>expanded_urls</th>\n",
       "      <th>rating_numerator</th>\n",
       "      <th>rating_denominator</th>\n",
       "      <th>name</th>\n",
       "      <th>doggo</th>\n",
       "      <th>floofer</th>\n",
       "      <th>pupper</th>\n",
       "      <th>puppo</th>\n",
       "    </tr>\n",
       "  </thead>\n",
       "  <tbody>\n",
       "    <tr>\n",
       "      <th>0</th>\n",
       "      <td>892420643555336193</td>\n",
       "      <td>NaN</td>\n",
       "      <td>NaN</td>\n",
       "      <td>2017-08-01 16:23:56 +0000</td>\n",
       "      <td>&lt;a href=\"http://twitter.com/download/iphone\" r...</td>\n",
       "      <td>This is Phineas. He's a mystical boy. Only eve...</td>\n",
       "      <td>NaN</td>\n",
       "      <td>NaN</td>\n",
       "      <td>NaN</td>\n",
       "      <td>https://twitter.com/dog_rates/status/892420643...</td>\n",
       "      <td>13</td>\n",
       "      <td>10</td>\n",
       "      <td>Phineas</td>\n",
       "      <td>None</td>\n",
       "      <td>None</td>\n",
       "      <td>None</td>\n",
       "      <td>None</td>\n",
       "    </tr>\n",
       "    <tr>\n",
       "      <th>1</th>\n",
       "      <td>892177421306343426</td>\n",
       "      <td>NaN</td>\n",
       "      <td>NaN</td>\n",
       "      <td>2017-08-01 00:17:27 +0000</td>\n",
       "      <td>&lt;a href=\"http://twitter.com/download/iphone\" r...</td>\n",
       "      <td>This is Tilly. She's just checking pup on you....</td>\n",
       "      <td>NaN</td>\n",
       "      <td>NaN</td>\n",
       "      <td>NaN</td>\n",
       "      <td>https://twitter.com/dog_rates/status/892177421...</td>\n",
       "      <td>13</td>\n",
       "      <td>10</td>\n",
       "      <td>Tilly</td>\n",
       "      <td>None</td>\n",
       "      <td>None</td>\n",
       "      <td>None</td>\n",
       "      <td>None</td>\n",
       "    </tr>\n",
       "    <tr>\n",
       "      <th>2</th>\n",
       "      <td>891815181378084864</td>\n",
       "      <td>NaN</td>\n",
       "      <td>NaN</td>\n",
       "      <td>2017-07-31 00:18:03 +0000</td>\n",
       "      <td>&lt;a href=\"http://twitter.com/download/iphone\" r...</td>\n",
       "      <td>This is Archie. He is a rare Norwegian Pouncin...</td>\n",
       "      <td>NaN</td>\n",
       "      <td>NaN</td>\n",
       "      <td>NaN</td>\n",
       "      <td>https://twitter.com/dog_rates/status/891815181...</td>\n",
       "      <td>12</td>\n",
       "      <td>10</td>\n",
       "      <td>Archie</td>\n",
       "      <td>None</td>\n",
       "      <td>None</td>\n",
       "      <td>None</td>\n",
       "      <td>None</td>\n",
       "    </tr>\n",
       "    <tr>\n",
       "      <th>3</th>\n",
       "      <td>891689557279858688</td>\n",
       "      <td>NaN</td>\n",
       "      <td>NaN</td>\n",
       "      <td>2017-07-30 15:58:51 +0000</td>\n",
       "      <td>&lt;a href=\"http://twitter.com/download/iphone\" r...</td>\n",
       "      <td>This is Darla. She commenced a snooze mid meal...</td>\n",
       "      <td>NaN</td>\n",
       "      <td>NaN</td>\n",
       "      <td>NaN</td>\n",
       "      <td>https://twitter.com/dog_rates/status/891689557...</td>\n",
       "      <td>13</td>\n",
       "      <td>10</td>\n",
       "      <td>Darla</td>\n",
       "      <td>None</td>\n",
       "      <td>None</td>\n",
       "      <td>None</td>\n",
       "      <td>None</td>\n",
       "    </tr>\n",
       "    <tr>\n",
       "      <th>4</th>\n",
       "      <td>891327558926688256</td>\n",
       "      <td>NaN</td>\n",
       "      <td>NaN</td>\n",
       "      <td>2017-07-29 16:00:24 +0000</td>\n",
       "      <td>&lt;a href=\"http://twitter.com/download/iphone\" r...</td>\n",
       "      <td>This is Franklin. He would like you to stop ca...</td>\n",
       "      <td>NaN</td>\n",
       "      <td>NaN</td>\n",
       "      <td>NaN</td>\n",
       "      <td>https://twitter.com/dog_rates/status/891327558...</td>\n",
       "      <td>12</td>\n",
       "      <td>10</td>\n",
       "      <td>Franklin</td>\n",
       "      <td>None</td>\n",
       "      <td>None</td>\n",
       "      <td>None</td>\n",
       "      <td>None</td>\n",
       "    </tr>\n",
       "  </tbody>\n",
       "</table>\n",
       "</div>"
      ],
      "text/plain": [
       "             tweet_id  in_reply_to_status_id  in_reply_to_user_id  \\\n",
       "0  892420643555336193                    NaN                  NaN   \n",
       "1  892177421306343426                    NaN                  NaN   \n",
       "2  891815181378084864                    NaN                  NaN   \n",
       "3  891689557279858688                    NaN                  NaN   \n",
       "4  891327558926688256                    NaN                  NaN   \n",
       "\n",
       "                   timestamp  \\\n",
       "0  2017-08-01 16:23:56 +0000   \n",
       "1  2017-08-01 00:17:27 +0000   \n",
       "2  2017-07-31 00:18:03 +0000   \n",
       "3  2017-07-30 15:58:51 +0000   \n",
       "4  2017-07-29 16:00:24 +0000   \n",
       "\n",
       "                                              source  \\\n",
       "0  <a href=\"http://twitter.com/download/iphone\" r...   \n",
       "1  <a href=\"http://twitter.com/download/iphone\" r...   \n",
       "2  <a href=\"http://twitter.com/download/iphone\" r...   \n",
       "3  <a href=\"http://twitter.com/download/iphone\" r...   \n",
       "4  <a href=\"http://twitter.com/download/iphone\" r...   \n",
       "\n",
       "                                                text  retweeted_status_id  \\\n",
       "0  This is Phineas. He's a mystical boy. Only eve...                  NaN   \n",
       "1  This is Tilly. She's just checking pup on you....                  NaN   \n",
       "2  This is Archie. He is a rare Norwegian Pouncin...                  NaN   \n",
       "3  This is Darla. She commenced a snooze mid meal...                  NaN   \n",
       "4  This is Franklin. He would like you to stop ca...                  NaN   \n",
       "\n",
       "   retweeted_status_user_id retweeted_status_timestamp  \\\n",
       "0                       NaN                        NaN   \n",
       "1                       NaN                        NaN   \n",
       "2                       NaN                        NaN   \n",
       "3                       NaN                        NaN   \n",
       "4                       NaN                        NaN   \n",
       "\n",
       "                                       expanded_urls  rating_numerator  \\\n",
       "0  https://twitter.com/dog_rates/status/892420643...                13   \n",
       "1  https://twitter.com/dog_rates/status/892177421...                13   \n",
       "2  https://twitter.com/dog_rates/status/891815181...                12   \n",
       "3  https://twitter.com/dog_rates/status/891689557...                13   \n",
       "4  https://twitter.com/dog_rates/status/891327558...                12   \n",
       "\n",
       "   rating_denominator      name doggo floofer pupper puppo  \n",
       "0                  10   Phineas  None    None   None  None  \n",
       "1                  10     Tilly  None    None   None  None  \n",
       "2                  10    Archie  None    None   None  None  \n",
       "3                  10     Darla  None    None   None  None  \n",
       "4                  10  Franklin  None    None   None  None  "
      ]
     },
     "execution_count": 177,
     "metadata": {},
     "output_type": "execute_result"
    }
   ],
   "source": [
    "archive_df.head()"
   ]
  },
  {
   "cell_type": "code",
   "execution_count": 178,
   "metadata": {},
   "outputs": [
    {
     "name": "stdout",
     "output_type": "stream",
     "text": [
      "<class 'pandas.core.frame.DataFrame'>\n",
      "RangeIndex: 2356 entries, 0 to 2355\n",
      "Data columns (total 17 columns):\n",
      "tweet_id                      2356 non-null int64\n",
      "in_reply_to_status_id         78 non-null float64\n",
      "in_reply_to_user_id           78 non-null float64\n",
      "timestamp                     2356 non-null object\n",
      "source                        2356 non-null object\n",
      "text                          2356 non-null object\n",
      "retweeted_status_id           181 non-null float64\n",
      "retweeted_status_user_id      181 non-null float64\n",
      "retweeted_status_timestamp    181 non-null object\n",
      "expanded_urls                 2297 non-null object\n",
      "rating_numerator              2356 non-null int64\n",
      "rating_denominator            2356 non-null int64\n",
      "name                          2356 non-null object\n",
      "doggo                         2356 non-null object\n",
      "floofer                       2356 non-null object\n",
      "pupper                        2356 non-null object\n",
      "puppo                         2356 non-null object\n",
      "dtypes: float64(4), int64(3), object(10)\n",
      "memory usage: 313.0+ KB\n"
     ]
    }
   ],
   "source": [
    "archive_df.info()"
   ]
  },
  {
   "cell_type": "markdown",
   "metadata": {},
   "source": [
    "**1. Missing data in the following columns: in_reply_to_status_id, in_reply_to_user_id, retweeted_status_id, etweeted_status_user_id, retweeted_status_timestamp, expanded_urls**\n",
    "\n",
    "**2. Timestamp and retweeted_status_timestamp is an object**\n",
    "\n",
    "**3. Source columns have HTML tags**\n",
    "\n",
    "**4. This dataset includes retweets, which means there is duplicated data**\n"
   ]
  },
  {
   "cell_type": "code",
   "execution_count": 179,
   "metadata": {},
   "outputs": [
    {
     "data": {
      "text/html": [
       "<div>\n",
       "<style scoped>\n",
       "    .dataframe tbody tr th:only-of-type {\n",
       "        vertical-align: middle;\n",
       "    }\n",
       "\n",
       "    .dataframe tbody tr th {\n",
       "        vertical-align: top;\n",
       "    }\n",
       "\n",
       "    .dataframe thead th {\n",
       "        text-align: right;\n",
       "    }\n",
       "</style>\n",
       "<table border=\"1\" class=\"dataframe\">\n",
       "  <thead>\n",
       "    <tr style=\"text-align: right;\">\n",
       "      <th></th>\n",
       "      <th>tweet_id</th>\n",
       "      <th>in_reply_to_status_id</th>\n",
       "      <th>in_reply_to_user_id</th>\n",
       "      <th>timestamp</th>\n",
       "      <th>source</th>\n",
       "      <th>text</th>\n",
       "      <th>retweeted_status_id</th>\n",
       "      <th>retweeted_status_user_id</th>\n",
       "      <th>retweeted_status_timestamp</th>\n",
       "      <th>expanded_urls</th>\n",
       "      <th>rating_numerator</th>\n",
       "      <th>rating_denominator</th>\n",
       "      <th>name</th>\n",
       "      <th>doggo</th>\n",
       "      <th>floofer</th>\n",
       "      <th>pupper</th>\n",
       "      <th>puppo</th>\n",
       "    </tr>\n",
       "  </thead>\n",
       "  <tbody>\n",
       "  </tbody>\n",
       "</table>\n",
       "</div>"
      ],
      "text/plain": [
       "Empty DataFrame\n",
       "Columns: [tweet_id, in_reply_to_status_id, in_reply_to_user_id, timestamp, source, text, retweeted_status_id, retweeted_status_user_id, retweeted_status_timestamp, expanded_urls, rating_numerator, rating_denominator, name, doggo, floofer, pupper, puppo]\n",
       "Index: []"
      ]
     },
     "execution_count": 179,
     "metadata": {},
     "output_type": "execute_result"
    }
   ],
   "source": [
    "# checks for duplicated entries in archive_df\n",
    "archive_df[archive_df.tweet_id.duplicated()]"
   ]
  },
  {
   "cell_type": "markdown",
   "metadata": {},
   "source": [
    "**No Duplicates entry present**"
   ]
  },
  {
   "cell_type": "code",
   "execution_count": 180,
   "metadata": {},
   "outputs": [
    {
     "data": {
      "text/plain": [
       "tweet_id                     0.565127\n",
       "in_reply_to_status_id        0.502124\n",
       "in_reply_to_user_id          6.168833\n",
       "retweeted_status_id         -0.192622\n",
       "retweeted_status_user_id     7.656559\n",
       "rating_numerator            29.770427\n",
       "rating_denominator          17.152358\n",
       "dtype: float64"
      ]
     },
     "execution_count": 180,
     "metadata": {},
     "output_type": "execute_result"
    }
   ],
   "source": [
    "archive_df.skew()"
   ]
  },
  {
   "cell_type": "markdown",
   "metadata": {},
   "source": [
    "**The rating_numerator and rating_denominator is highly positive skewed**"
   ]
  },
  {
   "cell_type": "code",
   "execution_count": 181,
   "metadata": {},
   "outputs": [
    {
     "data": {
      "image/png": "[encoded data removed]",
      "text/plain": [
       "<matplotlib.figure.Figure at 0x7fbfc5115518>"
      ]
     },
     "metadata": {
      "needs_background": "light"
     },
     "output_type": "display_data"
    }
   ],
   "source": [
    "ax = sns.boxplot(x=archive_df[\"rating_numerator\"]).set_title('Finding outliers in rating_numerator')"
   ]
  },
  {
   "cell_type": "code",
   "execution_count": 182,
   "metadata": {},
   "outputs": [
    {
     "data": {
      "image/png": "[encoded data removed]",
      "text/plain": [
       "<matplotlib.figure.Figure at 0x7fbfc5059940>"
      ]
     },
     "metadata": {
      "needs_background": "light"
     },
     "output_type": "display_data"
    }
   ],
   "source": [
    "ax = sns.boxplot(x=archive_df[\"rating_denominator\"]).set_title('Finding outliers in rating_denominator')"
   ]
  },
  {
   "cell_type": "code",
   "execution_count": 183,
   "metadata": {},
   "outputs": [
    {
     "data": {
      "text/plain": [
       "1776"
      ]
     },
     "execution_count": 183,
     "metadata": {},
     "output_type": "execute_result"
    }
   ],
   "source": [
    "archive_df[\"rating_numerator\"].max()"
   ]
  },
  {
   "cell_type": "code",
   "execution_count": 184,
   "metadata": {},
   "outputs": [
    {
     "data": {
      "text/plain": [
       "170"
      ]
     },
     "execution_count": 184,
     "metadata": {},
     "output_type": "execute_result"
    }
   ],
   "source": [
    "archive_df[\"rating_denominator\"].max()"
   ]
  },
  {
   "cell_type": "markdown",
   "metadata": {},
   "source": [
    "**rating_numerator contains max value 1776 and rating_denominator contains max value of 170**"
   ]
  },
  {
   "cell_type": "code",
   "execution_count": 185,
   "metadata": {},
   "outputs": [
    {
     "data": {
      "text/plain": [
       "a               55\n",
       "the              8\n",
       "an               7\n",
       "very             5\n",
       "quite            4\n",
       "just             4\n",
       "one              4\n",
       "mad              2\n",
       "actually         2\n",
       "getting          2\n",
       "not              2\n",
       "officially       1\n",
       "life             1\n",
       "all              1\n",
       "by               1\n",
       "unacceptable     1\n",
       "infuriating      1\n",
       "my               1\n",
       "such             1\n",
       "his              1\n",
       "old              1\n",
       "light            1\n",
       "this             1\n",
       "incredibly       1\n",
       "space            1\n",
       "Name: name, dtype: int64"
      ]
     },
     "execution_count": 185,
     "metadata": {},
     "output_type": "execute_result"
    }
   ],
   "source": [
    "archive_df[archive_df.name.str.islower()].name.value_counts()"
   ]
  },
  {
   "cell_type": "markdown",
   "metadata": {},
   "source": [
    "**Dogs name have 'None', or 'a', or 'an.' and some more lower case words as names**"
   ]
  },
  {
   "cell_type": "code",
   "execution_count": 186,
   "metadata": {},
   "outputs": [
    {
     "data": {
      "text/html": [
       "<div>\n",
       "<style scoped>\n",
       "    .dataframe tbody tr th:only-of-type {\n",
       "        vertical-align: middle;\n",
       "    }\n",
       "\n",
       "    .dataframe tbody tr th {\n",
       "        vertical-align: top;\n",
       "    }\n",
       "\n",
       "    .dataframe thead th {\n",
       "        text-align: right;\n",
       "    }\n",
       "</style>\n",
       "<table border=\"1\" class=\"dataframe\">\n",
       "  <thead>\n",
       "    <tr style=\"text-align: right;\">\n",
       "      <th></th>\n",
       "      <th>doggo</th>\n",
       "      <th>floofer</th>\n",
       "      <th>pupper</th>\n",
       "      <th>puppo</th>\n",
       "      <th>count</th>\n",
       "    </tr>\n",
       "  </thead>\n",
       "  <tbody>\n",
       "    <tr>\n",
       "      <th>0</th>\n",
       "      <td>None</td>\n",
       "      <td>None</td>\n",
       "      <td>None</td>\n",
       "      <td>None</td>\n",
       "      <td>1976</td>\n",
       "    </tr>\n",
       "    <tr>\n",
       "      <th>1</th>\n",
       "      <td>None</td>\n",
       "      <td>None</td>\n",
       "      <td>None</td>\n",
       "      <td>puppo</td>\n",
       "      <td>29</td>\n",
       "    </tr>\n",
       "    <tr>\n",
       "      <th>2</th>\n",
       "      <td>None</td>\n",
       "      <td>None</td>\n",
       "      <td>pupper</td>\n",
       "      <td>None</td>\n",
       "      <td>245</td>\n",
       "    </tr>\n",
       "    <tr>\n",
       "      <th>3</th>\n",
       "      <td>None</td>\n",
       "      <td>floofer</td>\n",
       "      <td>None</td>\n",
       "      <td>None</td>\n",
       "      <td>9</td>\n",
       "    </tr>\n",
       "    <tr>\n",
       "      <th>4</th>\n",
       "      <td>doggo</td>\n",
       "      <td>None</td>\n",
       "      <td>None</td>\n",
       "      <td>None</td>\n",
       "      <td>83</td>\n",
       "    </tr>\n",
       "    <tr>\n",
       "      <th>5</th>\n",
       "      <td>doggo</td>\n",
       "      <td>None</td>\n",
       "      <td>None</td>\n",
       "      <td>puppo</td>\n",
       "      <td>1</td>\n",
       "    </tr>\n",
       "    <tr>\n",
       "      <th>6</th>\n",
       "      <td>doggo</td>\n",
       "      <td>None</td>\n",
       "      <td>pupper</td>\n",
       "      <td>None</td>\n",
       "      <td>12</td>\n",
       "    </tr>\n",
       "    <tr>\n",
       "      <th>7</th>\n",
       "      <td>doggo</td>\n",
       "      <td>floofer</td>\n",
       "      <td>None</td>\n",
       "      <td>None</td>\n",
       "      <td>1</td>\n",
       "    </tr>\n",
       "  </tbody>\n",
       "</table>\n",
       "</div>"
      ],
      "text/plain": [
       "   doggo  floofer  pupper  puppo  count\n",
       "0   None     None    None   None   1976\n",
       "1   None     None    None  puppo     29\n",
       "2   None     None  pupper   None    245\n",
       "3   None  floofer    None   None      9\n",
       "4  doggo     None    None   None     83\n",
       "5  doggo     None    None  puppo      1\n",
       "6  doggo     None  pupper   None     12\n",
       "7  doggo  floofer    None   None      1"
      ]
     },
     "execution_count": 186,
     "metadata": {},
     "output_type": "execute_result"
    }
   ],
   "source": [
    "archive_df.groupby([\"doggo\", \"floofer\", \"pupper\", \"puppo\"]).size().reset_index().rename(columns={0: \"count\"})"
   ]
  },
  {
   "cell_type": "markdown",
   "metadata": {},
   "source": [
    "**Multiple dog stages occurs such as 'doggo puppo', 'doggo pupper', 'doggo floofer'**"
   ]
  },
  {
   "cell_type": "markdown",
   "metadata": {},
   "source": [
    "### Access image_pred_df"
   ]
  },
  {
   "cell_type": "code",
   "execution_count": 187,
   "metadata": {},
   "outputs": [
    {
     "data": {
      "text/html": [
       "<div>\n",
       "<style scoped>\n",
       "    .dataframe tbody tr th:only-of-type {\n",
       "        vertical-align: middle;\n",
       "    }\n",
       "\n",
       "    .dataframe tbody tr th {\n",
       "        vertical-align: top;\n",
       "    }\n",
       "\n",
       "    .dataframe thead th {\n",
       "        text-align: right;\n",
       "    }\n",
       "</style>\n",
       "<table border=\"1\" class=\"dataframe\">\n",
       "  <thead>\n",
       "    <tr style=\"text-align: right;\">\n",
       "      <th></th>\n",
       "      <th>tweet_id</th>\n",
       "      <th>jpg_url</th>\n",
       "      <th>img_num</th>\n",
       "      <th>p1</th>\n",
       "      <th>p1_conf</th>\n",
       "      <th>p1_dog</th>\n",
       "      <th>p2</th>\n",
       "      <th>p2_conf</th>\n",
       "      <th>p2_dog</th>\n",
       "      <th>p3</th>\n",
       "      <th>p3_conf</th>\n",
       "      <th>p3_dog</th>\n",
       "    </tr>\n",
       "  </thead>\n",
       "  <tbody>\n",
       "    <tr>\n",
       "      <th>0</th>\n",
       "      <td>666020888022790149</td>\n",
       "      <td>https://pbs.twimg.com/media/CT4udn0WwAA0aMy.jpg</td>\n",
       "      <td>1</td>\n",
       "      <td>Welsh_springer_spaniel</td>\n",
       "      <td>0.465074</td>\n",
       "      <td>True</td>\n",
       "      <td>collie</td>\n",
       "      <td>0.156665</td>\n",
       "      <td>True</td>\n",
       "      <td>Shetland_sheepdog</td>\n",
       "      <td>0.061428</td>\n",
       "      <td>True</td>\n",
       "    </tr>\n",
       "    <tr>\n",
       "      <th>1</th>\n",
       "      <td>666029285002620928</td>\n",
       "      <td>https://pbs.twimg.com/media/CT42GRgUYAA5iDo.jpg</td>\n",
       "      <td>1</td>\n",
       "      <td>redbone</td>\n",
       "      <td>0.506826</td>\n",
       "      <td>True</td>\n",
       "      <td>miniature_pinscher</td>\n",
       "      <td>0.074192</td>\n",
       "      <td>True</td>\n",
       "      <td>Rhodesian_ridgeback</td>\n",
       "      <td>0.072010</td>\n",
       "      <td>True</td>\n",
       "    </tr>\n",
       "    <tr>\n",
       "      <th>2</th>\n",
       "      <td>666033412701032449</td>\n",
       "      <td>https://pbs.twimg.com/media/CT4521TWwAEvMyu.jpg</td>\n",
       "      <td>1</td>\n",
       "      <td>German_shepherd</td>\n",
       "      <td>0.596461</td>\n",
       "      <td>True</td>\n",
       "      <td>malinois</td>\n",
       "      <td>0.138584</td>\n",
       "      <td>True</td>\n",
       "      <td>bloodhound</td>\n",
       "      <td>0.116197</td>\n",
       "      <td>True</td>\n",
       "    </tr>\n",
       "    <tr>\n",
       "      <th>3</th>\n",
       "      <td>666044226329800704</td>\n",
       "      <td>https://pbs.twimg.com/media/CT5Dr8HUEAA-lEu.jpg</td>\n",
       "      <td>1</td>\n",
       "      <td>Rhodesian_ridgeback</td>\n",
       "      <td>0.408143</td>\n",
       "      <td>True</td>\n",
       "      <td>redbone</td>\n",
       "      <td>0.360687</td>\n",
       "      <td>True</td>\n",
       "      <td>miniature_pinscher</td>\n",
       "      <td>0.222752</td>\n",
       "      <td>True</td>\n",
       "    </tr>\n",
       "    <tr>\n",
       "      <th>4</th>\n",
       "      <td>666049248165822465</td>\n",
       "      <td>https://pbs.twimg.com/media/CT5IQmsXIAAKY4A.jpg</td>\n",
       "      <td>1</td>\n",
       "      <td>miniature_pinscher</td>\n",
       "      <td>0.560311</td>\n",
       "      <td>True</td>\n",
       "      <td>Rottweiler</td>\n",
       "      <td>0.243682</td>\n",
       "      <td>True</td>\n",
       "      <td>Doberman</td>\n",
       "      <td>0.154629</td>\n",
       "      <td>True</td>\n",
       "    </tr>\n",
       "  </tbody>\n",
       "</table>\n",
       "</div>"
      ],
      "text/plain": [
       "             tweet_id                                          jpg_url  \\\n",
       "0  666020888022790149  https://pbs.twimg.com/media/CT4udn0WwAA0aMy.jpg   \n",
       "1  666029285002620928  https://pbs.twimg.com/media/CT42GRgUYAA5iDo.jpg   \n",
       "2  666033412701032449  https://pbs.twimg.com/media/CT4521TWwAEvMyu.jpg   \n",
       "3  666044226329800704  https://pbs.twimg.com/media/CT5Dr8HUEAA-lEu.jpg   \n",
       "4  666049248165822465  https://pbs.twimg.com/media/CT5IQmsXIAAKY4A.jpg   \n",
       "\n",
       "   img_num                      p1   p1_conf  p1_dog                  p2  \\\n",
       "0        1  Welsh_springer_spaniel  0.465074    True              collie   \n",
       "1        1                 redbone  0.506826    True  miniature_pinscher   \n",
       "2        1         German_shepherd  0.596461    True            malinois   \n",
       "3        1     Rhodesian_ridgeback  0.408143    True             redbone   \n",
       "4        1      miniature_pinscher  0.560311    True          Rottweiler   \n",
       "\n",
       "    p2_conf  p2_dog                   p3   p3_conf  p3_dog  \n",
       "0  0.156665    True    Shetland_sheepdog  0.061428    True  \n",
       "1  0.074192    True  Rhodesian_ridgeback  0.072010    True  \n",
       "2  0.138584    True           bloodhound  0.116197    True  \n",
       "3  0.360687    True   miniature_pinscher  0.222752    True  \n",
       "4  0.243682    True             Doberman  0.154629    True  "
      ]
     },
     "execution_count": 187,
     "metadata": {},
     "output_type": "execute_result"
    }
   ],
   "source": [
    "image_pred_df.head()"
   ]
  },
  {
   "cell_type": "markdown",
   "metadata": {},
   "source": [
    "\n",
    "**dog breeds are not consistently in p1,p2,p3 columns i.e lower or uppercase**"
   ]
  },
  {
   "cell_type": "code",
   "execution_count": 188,
   "metadata": {},
   "outputs": [
    {
     "name": "stdout",
     "output_type": "stream",
     "text": [
      "<class 'pandas.core.frame.DataFrame'>\n",
      "RangeIndex: 2075 entries, 0 to 2074\n",
      "Data columns (total 12 columns):\n",
      "tweet_id    2075 non-null int64\n",
      "jpg_url     2075 non-null object\n",
      "img_num     2075 non-null int64\n",
      "p1          2075 non-null object\n",
      "p1_conf     2075 non-null float64\n",
      "p1_dog      2075 non-null bool\n",
      "p2          2075 non-null object\n",
      "p2_conf     2075 non-null float64\n",
      "p2_dog      2075 non-null bool\n",
      "p3          2075 non-null object\n",
      "p3_conf     2075 non-null float64\n",
      "p3_dog      2075 non-null bool\n",
      "dtypes: bool(3), float64(3), int64(2), object(4)\n",
      "memory usage: 152.1+ KB\n"
     ]
    }
   ],
   "source": [
    "image_pred_df.info()"
   ]
  },
  {
   "cell_type": "markdown",
   "metadata": {},
   "source": [
    "**Contains non null values**"
   ]
  },
  {
   "cell_type": "code",
   "execution_count": 189,
   "metadata": {},
   "outputs": [
    {
     "data": {
      "text/html": [
       "<div>\n",
       "<style scoped>\n",
       "    .dataframe tbody tr th:only-of-type {\n",
       "        vertical-align: middle;\n",
       "    }\n",
       "\n",
       "    .dataframe tbody tr th {\n",
       "        vertical-align: top;\n",
       "    }\n",
       "\n",
       "    .dataframe thead th {\n",
       "        text-align: right;\n",
       "    }\n",
       "</style>\n",
       "<table border=\"1\" class=\"dataframe\">\n",
       "  <thead>\n",
       "    <tr style=\"text-align: right;\">\n",
       "      <th></th>\n",
       "      <th>tweet_id</th>\n",
       "      <th>jpg_url</th>\n",
       "      <th>img_num</th>\n",
       "      <th>p1</th>\n",
       "      <th>p1_conf</th>\n",
       "      <th>p1_dog</th>\n",
       "      <th>p2</th>\n",
       "      <th>p2_conf</th>\n",
       "      <th>p2_dog</th>\n",
       "      <th>p3</th>\n",
       "      <th>p3_conf</th>\n",
       "      <th>p3_dog</th>\n",
       "    </tr>\n",
       "  </thead>\n",
       "  <tbody>\n",
       "  </tbody>\n",
       "</table>\n",
       "</div>"
      ],
      "text/plain": [
       "Empty DataFrame\n",
       "Columns: [tweet_id, jpg_url, img_num, p1, p1_conf, p1_dog, p2, p2_conf, p2_dog, p3, p3_conf, p3_dog]\n",
       "Index: []"
      ]
     },
     "execution_count": 189,
     "metadata": {},
     "output_type": "execute_result"
    }
   ],
   "source": [
    "# checks for duplicated entries in image_pred_df\n",
    "image_pred_df[image_pred_df.tweet_id.duplicated()]"
   ]
  },
  {
   "cell_type": "markdown",
   "metadata": {},
   "source": [
    "**No Duplicate tweet_id present.** \n",
    "\n",
    "**Lets check duplicate entries for jpg_url:**"
   ]
  },
  {
   "cell_type": "code",
   "execution_count": 190,
   "metadata": {},
   "outputs": [
    {
     "data": {
      "text/html": [
       "<div>\n",
       "<style scoped>\n",
       "    .dataframe tbody tr th:only-of-type {\n",
       "        vertical-align: middle;\n",
       "    }\n",
       "\n",
       "    .dataframe tbody tr th {\n",
       "        vertical-align: top;\n",
       "    }\n",
       "\n",
       "    .dataframe thead th {\n",
       "        text-align: right;\n",
       "    }\n",
       "</style>\n",
       "<table border=\"1\" class=\"dataframe\">\n",
       "  <thead>\n",
       "    <tr style=\"text-align: right;\">\n",
       "      <th></th>\n",
       "      <th>tweet_id</th>\n",
       "      <th>jpg_url</th>\n",
       "      <th>img_num</th>\n",
       "      <th>p1</th>\n",
       "      <th>p1_conf</th>\n",
       "      <th>p1_dog</th>\n",
       "      <th>p2</th>\n",
       "      <th>p2_conf</th>\n",
       "      <th>p2_dog</th>\n",
       "      <th>p3</th>\n",
       "      <th>p3_conf</th>\n",
       "      <th>p3_dog</th>\n",
       "    </tr>\n",
       "  </thead>\n",
       "  <tbody>\n",
       "    <tr>\n",
       "      <th>1297</th>\n",
       "      <td>752309394570878976</td>\n",
       "      <td>https://pbs.twimg.com/ext_tw_video_thumb/67535...</td>\n",
       "      <td>1</td>\n",
       "      <td>upright</td>\n",
       "      <td>0.303415</td>\n",
       "      <td>False</td>\n",
       "      <td>golden_retriever</td>\n",
       "      <td>0.181351</td>\n",
       "      <td>True</td>\n",
       "      <td>Brittany_spaniel</td>\n",
       "      <td>0.162084</td>\n",
       "      <td>True</td>\n",
       "    </tr>\n",
       "    <tr>\n",
       "      <th>1315</th>\n",
       "      <td>754874841593970688</td>\n",
       "      <td>https://pbs.twimg.com/media/CWza7kpWcAAdYLc.jpg</td>\n",
       "      <td>1</td>\n",
       "      <td>pug</td>\n",
       "      <td>0.272205</td>\n",
       "      <td>True</td>\n",
       "      <td>bull_mastiff</td>\n",
       "      <td>0.251530</td>\n",
       "      <td>True</td>\n",
       "      <td>bath_towel</td>\n",
       "      <td>0.116806</td>\n",
       "      <td>False</td>\n",
       "    </tr>\n",
       "    <tr>\n",
       "      <th>1333</th>\n",
       "      <td>757729163776290825</td>\n",
       "      <td>https://pbs.twimg.com/media/CWyD2HGUYAQ1Xa7.jpg</td>\n",
       "      <td>2</td>\n",
       "      <td>cash_machine</td>\n",
       "      <td>0.802333</td>\n",
       "      <td>False</td>\n",
       "      <td>schipperke</td>\n",
       "      <td>0.045519</td>\n",
       "      <td>True</td>\n",
       "      <td>German_shepherd</td>\n",
       "      <td>0.023353</td>\n",
       "      <td>True</td>\n",
       "    </tr>\n",
       "    <tr>\n",
       "      <th>1345</th>\n",
       "      <td>759159934323924993</td>\n",
       "      <td>https://pbs.twimg.com/media/CU1zsMSUAAAS0qW.jpg</td>\n",
       "      <td>1</td>\n",
       "      <td>Irish_terrier</td>\n",
       "      <td>0.254856</td>\n",
       "      <td>True</td>\n",
       "      <td>briard</td>\n",
       "      <td>0.227716</td>\n",
       "      <td>True</td>\n",
       "      <td>soft-coated_wheaten_terrier</td>\n",
       "      <td>0.223263</td>\n",
       "      <td>True</td>\n",
       "    </tr>\n",
       "    <tr>\n",
       "      <th>1349</th>\n",
       "      <td>759566828574212096</td>\n",
       "      <td>https://pbs.twimg.com/media/CkNjahBXAAQ2kWo.jpg</td>\n",
       "      <td>1</td>\n",
       "      <td>Labrador_retriever</td>\n",
       "      <td>0.967397</td>\n",
       "      <td>True</td>\n",
       "      <td>golden_retriever</td>\n",
       "      <td>0.016641</td>\n",
       "      <td>True</td>\n",
       "      <td>ice_bear</td>\n",
       "      <td>0.014858</td>\n",
       "      <td>False</td>\n",
       "    </tr>\n",
       "    <tr>\n",
       "      <th>1364</th>\n",
       "      <td>761371037149827077</td>\n",
       "      <td>https://pbs.twimg.com/tweet_video_thumb/CeBym7...</td>\n",
       "      <td>1</td>\n",
       "      <td>brown_bear</td>\n",
       "      <td>0.713293</td>\n",
       "      <td>False</td>\n",
       "      <td>Indian_elephant</td>\n",
       "      <td>0.172844</td>\n",
       "      <td>False</td>\n",
       "      <td>water_buffalo</td>\n",
       "      <td>0.038902</td>\n",
       "      <td>False</td>\n",
       "    </tr>\n",
       "    <tr>\n",
       "      <th>1368</th>\n",
       "      <td>761750502866649088</td>\n",
       "      <td>https://pbs.twimg.com/media/CYLDikFWEAAIy1y.jpg</td>\n",
       "      <td>1</td>\n",
       "      <td>golden_retriever</td>\n",
       "      <td>0.586937</td>\n",
       "      <td>True</td>\n",
       "      <td>Labrador_retriever</td>\n",
       "      <td>0.398260</td>\n",
       "      <td>True</td>\n",
       "      <td>kuvasz</td>\n",
       "      <td>0.005410</td>\n",
       "      <td>True</td>\n",
       "    </tr>\n",
       "    <tr>\n",
       "      <th>1387</th>\n",
       "      <td>766078092750233600</td>\n",
       "      <td>https://pbs.twimg.com/media/ChK1tdBWwAQ1flD.jpg</td>\n",
       "      <td>1</td>\n",
       "      <td>toy_poodle</td>\n",
       "      <td>0.420463</td>\n",
       "      <td>True</td>\n",
       "      <td>miniature_poodle</td>\n",
       "      <td>0.132640</td>\n",
       "      <td>True</td>\n",
       "      <td>Chesapeake_Bay_retriever</td>\n",
       "      <td>0.121523</td>\n",
       "      <td>True</td>\n",
       "    </tr>\n",
       "    <tr>\n",
       "      <th>1407</th>\n",
       "      <td>770093767776997377</td>\n",
       "      <td>https://pbs.twimg.com/media/CkjMx99UoAM2B1a.jpg</td>\n",
       "      <td>1</td>\n",
       "      <td>golden_retriever</td>\n",
       "      <td>0.843799</td>\n",
       "      <td>True</td>\n",
       "      <td>Labrador_retriever</td>\n",
       "      <td>0.052956</td>\n",
       "      <td>True</td>\n",
       "      <td>kelpie</td>\n",
       "      <td>0.035711</td>\n",
       "      <td>True</td>\n",
       "    </tr>\n",
       "    <tr>\n",
       "      <th>1417</th>\n",
       "      <td>771171053431250945</td>\n",
       "      <td>https://pbs.twimg.com/media/CVgdFjNWEAAxmbq.jpg</td>\n",
       "      <td>3</td>\n",
       "      <td>Samoyed</td>\n",
       "      <td>0.978833</td>\n",
       "      <td>True</td>\n",
       "      <td>Pomeranian</td>\n",
       "      <td>0.012763</td>\n",
       "      <td>True</td>\n",
       "      <td>Eskimo_dog</td>\n",
       "      <td>0.001853</td>\n",
       "      <td>True</td>\n",
       "    </tr>\n",
       "    <tr>\n",
       "      <th>1427</th>\n",
       "      <td>772615324260794368</td>\n",
       "      <td>https://pbs.twimg.com/media/Cp6db4-XYAAMmqL.jpg</td>\n",
       "      <td>1</td>\n",
       "      <td>dalmatian</td>\n",
       "      <td>0.556595</td>\n",
       "      <td>True</td>\n",
       "      <td>whippet</td>\n",
       "      <td>0.151047</td>\n",
       "      <td>True</td>\n",
       "      <td>American_Staffordshire_terrier</td>\n",
       "      <td>0.096435</td>\n",
       "      <td>True</td>\n",
       "    </tr>\n",
       "    <tr>\n",
       "      <th>1446</th>\n",
       "      <td>775898661951791106</td>\n",
       "      <td>https://pbs.twimg.com/media/CiyHLocU4AI2pJu.jpg</td>\n",
       "      <td>1</td>\n",
       "      <td>golden_retriever</td>\n",
       "      <td>0.945523</td>\n",
       "      <td>True</td>\n",
       "      <td>Labrador_retriever</td>\n",
       "      <td>0.042319</td>\n",
       "      <td>True</td>\n",
       "      <td>doormat</td>\n",
       "      <td>0.003956</td>\n",
       "      <td>False</td>\n",
       "    </tr>\n",
       "    <tr>\n",
       "      <th>1453</th>\n",
       "      <td>776819012571455488</td>\n",
       "      <td>https://pbs.twimg.com/media/CW88XN4WsAAlo8r.jpg</td>\n",
       "      <td>3</td>\n",
       "      <td>Chihuahua</td>\n",
       "      <td>0.346545</td>\n",
       "      <td>True</td>\n",
       "      <td>dalmatian</td>\n",
       "      <td>0.166246</td>\n",
       "      <td>True</td>\n",
       "      <td>toy_terrier</td>\n",
       "      <td>0.117502</td>\n",
       "      <td>True</td>\n",
       "    </tr>\n",
       "    <tr>\n",
       "      <th>1456</th>\n",
       "      <td>777641927919427584</td>\n",
       "      <td>https://pbs.twimg.com/media/CmoPdmHW8AAi8BI.jpg</td>\n",
       "      <td>1</td>\n",
       "      <td>golden_retriever</td>\n",
       "      <td>0.964929</td>\n",
       "      <td>True</td>\n",
       "      <td>Labrador_retriever</td>\n",
       "      <td>0.011584</td>\n",
       "      <td>True</td>\n",
       "      <td>refrigerator</td>\n",
       "      <td>0.007499</td>\n",
       "      <td>False</td>\n",
       "    </tr>\n",
       "    <tr>\n",
       "      <th>1463</th>\n",
       "      <td>778396591732486144</td>\n",
       "      <td>https://pbs.twimg.com/media/CcG07BYW0AErrC9.jpg</td>\n",
       "      <td>1</td>\n",
       "      <td>hippopotamus</td>\n",
       "      <td>0.581403</td>\n",
       "      <td>False</td>\n",
       "      <td>doormat</td>\n",
       "      <td>0.152445</td>\n",
       "      <td>False</td>\n",
       "      <td>sea_lion</td>\n",
       "      <td>0.026364</td>\n",
       "      <td>False</td>\n",
       "    </tr>\n",
       "    <tr>\n",
       "      <th>1476</th>\n",
       "      <td>780496263422808064</td>\n",
       "      <td>https://pbs.twimg.com/media/Ck2d7tJWUAEPTL3.jpg</td>\n",
       "      <td>1</td>\n",
       "      <td>pug</td>\n",
       "      <td>0.997310</td>\n",
       "      <td>True</td>\n",
       "      <td>Brabancon_griffon</td>\n",
       "      <td>0.001186</td>\n",
       "      <td>True</td>\n",
       "      <td>French_bulldog</td>\n",
       "      <td>0.000428</td>\n",
       "      <td>True</td>\n",
       "    </tr>\n",
       "    <tr>\n",
       "      <th>1487</th>\n",
       "      <td>782021823840026624</td>\n",
       "      <td>https://pbs.twimg.com/media/CdHwZd0VIAA4792.jpg</td>\n",
       "      <td>1</td>\n",
       "      <td>golden_retriever</td>\n",
       "      <td>0.383223</td>\n",
       "      <td>True</td>\n",
       "      <td>cocker_spaniel</td>\n",
       "      <td>0.165930</td>\n",
       "      <td>True</td>\n",
       "      <td>Chesapeake_Bay_retriever</td>\n",
       "      <td>0.118199</td>\n",
       "      <td>True</td>\n",
       "    </tr>\n",
       "    <tr>\n",
       "      <th>1495</th>\n",
       "      <td>783347506784731136</td>\n",
       "      <td>https://pbs.twimg.com/media/CVuQ2LeUsAAIe3s.jpg</td>\n",
       "      <td>1</td>\n",
       "      <td>Cardigan</td>\n",
       "      <td>0.611525</td>\n",
       "      <td>True</td>\n",
       "      <td>Pembroke</td>\n",
       "      <td>0.368566</td>\n",
       "      <td>True</td>\n",
       "      <td>Chihuahua</td>\n",
       "      <td>0.003330</td>\n",
       "      <td>True</td>\n",
       "    </tr>\n",
       "    <tr>\n",
       "      <th>1510</th>\n",
       "      <td>786036967502913536</td>\n",
       "      <td>https://pbs.twimg.com/media/CtKHLuCWYAA2TTs.jpg</td>\n",
       "      <td>1</td>\n",
       "      <td>golden_retriever</td>\n",
       "      <td>0.993830</td>\n",
       "      <td>True</td>\n",
       "      <td>cocker_spaniel</td>\n",
       "      <td>0.003143</td>\n",
       "      <td>True</td>\n",
       "      <td>Great_Pyrenees</td>\n",
       "      <td>0.000917</td>\n",
       "      <td>True</td>\n",
       "    </tr>\n",
       "    <tr>\n",
       "      <th>1522</th>\n",
       "      <td>788070120937619456</td>\n",
       "      <td>https://pbs.twimg.com/media/Co-hmcYXYAASkiG.jpg</td>\n",
       "      <td>1</td>\n",
       "      <td>golden_retriever</td>\n",
       "      <td>0.735163</td>\n",
       "      <td>True</td>\n",
       "      <td>Sussex_spaniel</td>\n",
       "      <td>0.064897</td>\n",
       "      <td>True</td>\n",
       "      <td>Labrador_retriever</td>\n",
       "      <td>0.047704</td>\n",
       "      <td>True</td>\n",
       "    </tr>\n",
       "    <tr>\n",
       "      <th>1538</th>\n",
       "      <td>790723298204217344</td>\n",
       "      <td>https://pbs.twimg.com/media/CvaYgDOWgAEfjls.jpg</td>\n",
       "      <td>1</td>\n",
       "      <td>tub</td>\n",
       "      <td>0.479477</td>\n",
       "      <td>False</td>\n",
       "      <td>bathtub</td>\n",
       "      <td>0.325106</td>\n",
       "      <td>False</td>\n",
       "      <td>golden_retriever</td>\n",
       "      <td>0.078530</td>\n",
       "      <td>True</td>\n",
       "    </tr>\n",
       "    <tr>\n",
       "      <th>1541</th>\n",
       "      <td>791026214425268224</td>\n",
       "      <td>https://pbs.twimg.com/media/CpmyNumW8AAAJGj.jpg</td>\n",
       "      <td>1</td>\n",
       "      <td>malamute</td>\n",
       "      <td>0.375098</td>\n",
       "      <td>True</td>\n",
       "      <td>jean</td>\n",
       "      <td>0.069362</td>\n",
       "      <td>False</td>\n",
       "      <td>keeshond</td>\n",
       "      <td>0.050528</td>\n",
       "      <td>True</td>\n",
       "    </tr>\n",
       "    <tr>\n",
       "      <th>1564</th>\n",
       "      <td>793614319594401792</td>\n",
       "      <td>https://pbs.twimg.com/media/CvyVxQRWEAAdSZS.jpg</td>\n",
       "      <td>1</td>\n",
       "      <td>golden_retriever</td>\n",
       "      <td>0.705092</td>\n",
       "      <td>True</td>\n",
       "      <td>Labrador_retriever</td>\n",
       "      <td>0.219721</td>\n",
       "      <td>True</td>\n",
       "      <td>kuvasz</td>\n",
       "      <td>0.015965</td>\n",
       "      <td>True</td>\n",
       "    </tr>\n",
       "    <tr>\n",
       "      <th>1569</th>\n",
       "      <td>794355576146903043</td>\n",
       "      <td>https://pbs.twimg.com/media/CvJCabcWgAIoUxW.jpg</td>\n",
       "      <td>1</td>\n",
       "      <td>cocker_spaniel</td>\n",
       "      <td>0.500509</td>\n",
       "      <td>True</td>\n",
       "      <td>golden_retriever</td>\n",
       "      <td>0.272734</td>\n",
       "      <td>True</td>\n",
       "      <td>jigsaw_puzzle</td>\n",
       "      <td>0.041476</td>\n",
       "      <td>False</td>\n",
       "    </tr>\n",
       "    <tr>\n",
       "      <th>1571</th>\n",
       "      <td>794983741416415232</td>\n",
       "      <td>https://pbs.twimg.com/media/CvT6IV6WEAQhhV5.jpg</td>\n",
       "      <td>3</td>\n",
       "      <td>schipperke</td>\n",
       "      <td>0.363272</td>\n",
       "      <td>True</td>\n",
       "      <td>kelpie</td>\n",
       "      <td>0.197021</td>\n",
       "      <td>True</td>\n",
       "      <td>Norwegian_elkhound</td>\n",
       "      <td>0.151024</td>\n",
       "      <td>True</td>\n",
       "    </tr>\n",
       "    <tr>\n",
       "      <th>1579</th>\n",
       "      <td>796177847564038144</td>\n",
       "      <td>https://pbs.twimg.com/media/Cwx99rpW8AMk_Ie.jpg</td>\n",
       "      <td>1</td>\n",
       "      <td>golden_retriever</td>\n",
       "      <td>0.600276</td>\n",
       "      <td>True</td>\n",
       "      <td>Labrador_retriever</td>\n",
       "      <td>0.140798</td>\n",
       "      <td>True</td>\n",
       "      <td>seat_belt</td>\n",
       "      <td>0.087355</td>\n",
       "      <td>False</td>\n",
       "    </tr>\n",
       "    <tr>\n",
       "      <th>1588</th>\n",
       "      <td>798340744599797760</td>\n",
       "      <td>https://pbs.twimg.com/media/CrXhIqBW8AA6Bse.jpg</td>\n",
       "      <td>1</td>\n",
       "      <td>papillon</td>\n",
       "      <td>0.533180</td>\n",
       "      <td>True</td>\n",
       "      <td>collie</td>\n",
       "      <td>0.192031</td>\n",
       "      <td>True</td>\n",
       "      <td>Border_collie</td>\n",
       "      <td>0.121626</td>\n",
       "      <td>True</td>\n",
       "    </tr>\n",
       "    <tr>\n",
       "      <th>1589</th>\n",
       "      <td>798628517273620480</td>\n",
       "      <td>https://pbs.twimg.com/media/CUN4Or5UAAAa5K4.jpg</td>\n",
       "      <td>1</td>\n",
       "      <td>beagle</td>\n",
       "      <td>0.636169</td>\n",
       "      <td>True</td>\n",
       "      <td>Labrador_retriever</td>\n",
       "      <td>0.119256</td>\n",
       "      <td>True</td>\n",
       "      <td>golden_retriever</td>\n",
       "      <td>0.082549</td>\n",
       "      <td>True</td>\n",
       "    </tr>\n",
       "    <tr>\n",
       "      <th>1590</th>\n",
       "      <td>798644042770751489</td>\n",
       "      <td>https://pbs.twimg.com/media/CU3mITUWIAAfyQS.jpg</td>\n",
       "      <td>1</td>\n",
       "      <td>English_springer</td>\n",
       "      <td>0.403698</td>\n",
       "      <td>True</td>\n",
       "      <td>Brittany_spaniel</td>\n",
       "      <td>0.347609</td>\n",
       "      <td>True</td>\n",
       "      <td>Welsh_springer_spaniel</td>\n",
       "      <td>0.137186</td>\n",
       "      <td>True</td>\n",
       "    </tr>\n",
       "    <tr>\n",
       "      <th>1591</th>\n",
       "      <td>798665375516884993</td>\n",
       "      <td>https://pbs.twimg.com/media/CVMOlMiWwAA4Yxl.jpg</td>\n",
       "      <td>1</td>\n",
       "      <td>chow</td>\n",
       "      <td>0.243529</td>\n",
       "      <td>True</td>\n",
       "      <td>hamster</td>\n",
       "      <td>0.227150</td>\n",
       "      <td>False</td>\n",
       "      <td>Pomeranian</td>\n",
       "      <td>0.056057</td>\n",
       "      <td>True</td>\n",
       "    </tr>\n",
       "    <tr>\n",
       "      <th>...</th>\n",
       "      <td>...</td>\n",
       "      <td>...</td>\n",
       "      <td>...</td>\n",
       "      <td>...</td>\n",
       "      <td>...</td>\n",
       "      <td>...</td>\n",
       "      <td>...</td>\n",
       "      <td>...</td>\n",
       "      <td>...</td>\n",
       "      <td>...</td>\n",
       "      <td>...</td>\n",
       "      <td>...</td>\n",
       "    </tr>\n",
       "    <tr>\n",
       "      <th>1619</th>\n",
       "      <td>802624713319034886</td>\n",
       "      <td>https://pbs.twimg.com/media/CsrjryzWgAAZY00.jpg</td>\n",
       "      <td>1</td>\n",
       "      <td>cocker_spaniel</td>\n",
       "      <td>0.253442</td>\n",
       "      <td>True</td>\n",
       "      <td>golden_retriever</td>\n",
       "      <td>0.162850</td>\n",
       "      <td>True</td>\n",
       "      <td>otterhound</td>\n",
       "      <td>0.110921</td>\n",
       "      <td>True</td>\n",
       "    </tr>\n",
       "    <tr>\n",
       "      <th>1624</th>\n",
       "      <td>803692223237865472</td>\n",
       "      <td>https://pbs.twimg.com/media/CZhn-QAWwAASQan.jpg</td>\n",
       "      <td>1</td>\n",
       "      <td>Lakeland_terrier</td>\n",
       "      <td>0.530104</td>\n",
       "      <td>True</td>\n",
       "      <td>Irish_terrier</td>\n",
       "      <td>0.197314</td>\n",
       "      <td>True</td>\n",
       "      <td>Airedale</td>\n",
       "      <td>0.082515</td>\n",
       "      <td>True</td>\n",
       "    </tr>\n",
       "    <tr>\n",
       "      <th>1627</th>\n",
       "      <td>804413760345620481</td>\n",
       "      <td>https://pbs.twimg.com/media/CuRDF-XWcAIZSer.jpg</td>\n",
       "      <td>1</td>\n",
       "      <td>chow</td>\n",
       "      <td>0.090341</td>\n",
       "      <td>True</td>\n",
       "      <td>binoculars</td>\n",
       "      <td>0.083499</td>\n",
       "      <td>False</td>\n",
       "      <td>Irish_setter</td>\n",
       "      <td>0.077456</td>\n",
       "      <td>True</td>\n",
       "    </tr>\n",
       "    <tr>\n",
       "      <th>1634</th>\n",
       "      <td>805958939288408065</td>\n",
       "      <td>https://pbs.twimg.com/media/CtzKC7zXEAALfSo.jpg</td>\n",
       "      <td>1</td>\n",
       "      <td>Irish_setter</td>\n",
       "      <td>0.574557</td>\n",
       "      <td>True</td>\n",
       "      <td>golden_retriever</td>\n",
       "      <td>0.339251</td>\n",
       "      <td>True</td>\n",
       "      <td>seat_belt</td>\n",
       "      <td>0.046108</td>\n",
       "      <td>False</td>\n",
       "    </tr>\n",
       "    <tr>\n",
       "      <th>1636</th>\n",
       "      <td>806242860592926720</td>\n",
       "      <td>https://pbs.twimg.com/media/Ct72q9jWcAAhlnw.jpg</td>\n",
       "      <td>2</td>\n",
       "      <td>Cardigan</td>\n",
       "      <td>0.593858</td>\n",
       "      <td>True</td>\n",
       "      <td>Shetland_sheepdog</td>\n",
       "      <td>0.130611</td>\n",
       "      <td>True</td>\n",
       "      <td>Pembroke</td>\n",
       "      <td>0.100842</td>\n",
       "      <td>True</td>\n",
       "    </tr>\n",
       "    <tr>\n",
       "      <th>1640</th>\n",
       "      <td>807059379405148160</td>\n",
       "      <td>https://pbs.twimg.com/media/Ct2qO5PXEAE6eB0.jpg</td>\n",
       "      <td>1</td>\n",
       "      <td>seat_belt</td>\n",
       "      <td>0.474292</td>\n",
       "      <td>False</td>\n",
       "      <td>golden_retriever</td>\n",
       "      <td>0.171393</td>\n",
       "      <td>True</td>\n",
       "      <td>Labrador_retriever</td>\n",
       "      <td>0.110592</td>\n",
       "      <td>True</td>\n",
       "    </tr>\n",
       "    <tr>\n",
       "      <th>1645</th>\n",
       "      <td>808134635716833280</td>\n",
       "      <td>https://pbs.twimg.com/media/Cx5R8wPVEAALa9r.jpg</td>\n",
       "      <td>1</td>\n",
       "      <td>cocker_spaniel</td>\n",
       "      <td>0.740220</td>\n",
       "      <td>True</td>\n",
       "      <td>Dandie_Dinmont</td>\n",
       "      <td>0.061604</td>\n",
       "      <td>True</td>\n",
       "      <td>English_setter</td>\n",
       "      <td>0.041331</td>\n",
       "      <td>True</td>\n",
       "    </tr>\n",
       "    <tr>\n",
       "      <th>1652</th>\n",
       "      <td>809808892968534016</td>\n",
       "      <td>https://pbs.twimg.com/media/CwS4aqZXUAAe3IO.jpg</td>\n",
       "      <td>1</td>\n",
       "      <td>Labrador_retriever</td>\n",
       "      <td>0.861651</td>\n",
       "      <td>True</td>\n",
       "      <td>golden_retriever</td>\n",
       "      <td>0.044462</td>\n",
       "      <td>True</td>\n",
       "      <td>Staffordshire_bullterrier</td>\n",
       "      <td>0.016497</td>\n",
       "      <td>True</td>\n",
       "    </tr>\n",
       "    <tr>\n",
       "      <th>1683</th>\n",
       "      <td>813944609378369540</td>\n",
       "      <td>https://pbs.twimg.com/media/Cveg1-NXgAASaaT.jpg</td>\n",
       "      <td>1</td>\n",
       "      <td>Labrador_retriever</td>\n",
       "      <td>0.427742</td>\n",
       "      <td>True</td>\n",
       "      <td>Great_Dane</td>\n",
       "      <td>0.190503</td>\n",
       "      <td>True</td>\n",
       "      <td>curly-coated_retriever</td>\n",
       "      <td>0.146427</td>\n",
       "      <td>True</td>\n",
       "    </tr>\n",
       "    <tr>\n",
       "      <th>1693</th>\n",
       "      <td>816014286006976512</td>\n",
       "      <td>https://pbs.twimg.com/media/CiibOMzUYAA9Mxz.jpg</td>\n",
       "      <td>1</td>\n",
       "      <td>English_setter</td>\n",
       "      <td>0.677408</td>\n",
       "      <td>True</td>\n",
       "      <td>Border_collie</td>\n",
       "      <td>0.052724</td>\n",
       "      <td>True</td>\n",
       "      <td>cocker_spaniel</td>\n",
       "      <td>0.048572</td>\n",
       "      <td>True</td>\n",
       "    </tr>\n",
       "    <tr>\n",
       "      <th>1699</th>\n",
       "      <td>816829038950027264</td>\n",
       "      <td>https://pbs.twimg.com/media/CvoBPWRWgAA4het.jpg</td>\n",
       "      <td>1</td>\n",
       "      <td>dishwasher</td>\n",
       "      <td>0.700466</td>\n",
       "      <td>False</td>\n",
       "      <td>golden_retriever</td>\n",
       "      <td>0.245773</td>\n",
       "      <td>True</td>\n",
       "      <td>chow</td>\n",
       "      <td>0.039012</td>\n",
       "      <td>True</td>\n",
       "    </tr>\n",
       "    <tr>\n",
       "      <th>1703</th>\n",
       "      <td>817181837579653120</td>\n",
       "      <td>https://pbs.twimg.com/ext_tw_video_thumb/81596...</td>\n",
       "      <td>1</td>\n",
       "      <td>Tibetan_mastiff</td>\n",
       "      <td>0.506312</td>\n",
       "      <td>True</td>\n",
       "      <td>Tibetan_terrier</td>\n",
       "      <td>0.295690</td>\n",
       "      <td>True</td>\n",
       "      <td>otterhound</td>\n",
       "      <td>0.036251</td>\n",
       "      <td>True</td>\n",
       "    </tr>\n",
       "    <tr>\n",
       "      <th>1712</th>\n",
       "      <td>818588835076603904</td>\n",
       "      <td>https://pbs.twimg.com/media/Crwxb5yWgAAX5P_.jpg</td>\n",
       "      <td>1</td>\n",
       "      <td>Norwegian_elkhound</td>\n",
       "      <td>0.372202</td>\n",
       "      <td>True</td>\n",
       "      <td>Chesapeake_Bay_retriever</td>\n",
       "      <td>0.137187</td>\n",
       "      <td>True</td>\n",
       "      <td>malamute</td>\n",
       "      <td>0.071436</td>\n",
       "      <td>True</td>\n",
       "    </tr>\n",
       "    <tr>\n",
       "      <th>1717</th>\n",
       "      <td>819015331746349057</td>\n",
       "      <td>https://pbs.twimg.com/media/C12x-JTVIAAzdfl.jpg</td>\n",
       "      <td>4</td>\n",
       "      <td>prison</td>\n",
       "      <td>0.907083</td>\n",
       "      <td>False</td>\n",
       "      <td>palace</td>\n",
       "      <td>0.020089</td>\n",
       "      <td>False</td>\n",
       "      <td>umbrella</td>\n",
       "      <td>0.007850</td>\n",
       "      <td>False</td>\n",
       "    </tr>\n",
       "    <tr>\n",
       "      <th>1718</th>\n",
       "      <td>819015337530290176</td>\n",
       "      <td>https://pbs.twimg.com/media/C12whDoVEAALRxa.jpg</td>\n",
       "      <td>1</td>\n",
       "      <td>standard_poodle</td>\n",
       "      <td>0.351308</td>\n",
       "      <td>True</td>\n",
       "      <td>toy_poodle</td>\n",
       "      <td>0.271929</td>\n",
       "      <td>True</td>\n",
       "      <td>Tibetan_terrier</td>\n",
       "      <td>0.094759</td>\n",
       "      <td>True</td>\n",
       "    </tr>\n",
       "    <tr>\n",
       "      <th>1727</th>\n",
       "      <td>820446719150292993</td>\n",
       "      <td>https://pbs.twimg.com/media/CxqsX-8XUAAEvjD.jpg</td>\n",
       "      <td>3</td>\n",
       "      <td>golden_retriever</td>\n",
       "      <td>0.938048</td>\n",
       "      <td>True</td>\n",
       "      <td>kuvasz</td>\n",
       "      <td>0.025119</td>\n",
       "      <td>True</td>\n",
       "      <td>Labrador_retriever</td>\n",
       "      <td>0.022977</td>\n",
       "      <td>True</td>\n",
       "    </tr>\n",
       "    <tr>\n",
       "      <th>1736</th>\n",
       "      <td>821813639212650496</td>\n",
       "      <td>https://pbs.twimg.com/media/CtVAvX-WIAAcGTf.jpg</td>\n",
       "      <td>1</td>\n",
       "      <td>Saint_Bernard</td>\n",
       "      <td>0.995143</td>\n",
       "      <td>True</td>\n",
       "      <td>Cardigan</td>\n",
       "      <td>0.003044</td>\n",
       "      <td>True</td>\n",
       "      <td>English_springer</td>\n",
       "      <td>0.001050</td>\n",
       "      <td>True</td>\n",
       "    </tr>\n",
       "    <tr>\n",
       "      <th>1742</th>\n",
       "      <td>822647212903690241</td>\n",
       "      <td>https://pbs.twimg.com/media/C2oRbOuWEAAbVSl.jpg</td>\n",
       "      <td>1</td>\n",
       "      <td>Samoyed</td>\n",
       "      <td>0.416769</td>\n",
       "      <td>True</td>\n",
       "      <td>malamute</td>\n",
       "      <td>0.252706</td>\n",
       "      <td>True</td>\n",
       "      <td>kuvasz</td>\n",
       "      <td>0.157028</td>\n",
       "      <td>True</td>\n",
       "    </tr>\n",
       "    <tr>\n",
       "      <th>1746</th>\n",
       "      <td>823269594223824897</td>\n",
       "      <td>https://pbs.twimg.com/media/C2kzTGxWEAEOpPL.jpg</td>\n",
       "      <td>1</td>\n",
       "      <td>Samoyed</td>\n",
       "      <td>0.585441</td>\n",
       "      <td>True</td>\n",
       "      <td>Pomeranian</td>\n",
       "      <td>0.193654</td>\n",
       "      <td>True</td>\n",
       "      <td>Arctic_fox</td>\n",
       "      <td>0.071648</td>\n",
       "      <td>False</td>\n",
       "    </tr>\n",
       "    <tr>\n",
       "      <th>1755</th>\n",
       "      <td>824796380199809024</td>\n",
       "      <td>https://pbs.twimg.com/media/CwiuEJmW8AAZnit.jpg</td>\n",
       "      <td>2</td>\n",
       "      <td>gas_pump</td>\n",
       "      <td>0.676439</td>\n",
       "      <td>False</td>\n",
       "      <td>harvester</td>\n",
       "      <td>0.049995</td>\n",
       "      <td>False</td>\n",
       "      <td>swing</td>\n",
       "      <td>0.044660</td>\n",
       "      <td>False</td>\n",
       "    </tr>\n",
       "    <tr>\n",
       "      <th>1789</th>\n",
       "      <td>829878982036299777</td>\n",
       "      <td>https://pbs.twimg.com/media/C3nygbBWQAAjwcW.jpg</td>\n",
       "      <td>1</td>\n",
       "      <td>golden_retriever</td>\n",
       "      <td>0.617389</td>\n",
       "      <td>True</td>\n",
       "      <td>Labrador_retriever</td>\n",
       "      <td>0.337053</td>\n",
       "      <td>True</td>\n",
       "      <td>tennis_ball</td>\n",
       "      <td>0.008554</td>\n",
       "      <td>False</td>\n",
       "    </tr>\n",
       "    <tr>\n",
       "      <th>1803</th>\n",
       "      <td>832040443403784192</td>\n",
       "      <td>https://pbs.twimg.com/media/Cq9guJ5WgAADfpF.jpg</td>\n",
       "      <td>1</td>\n",
       "      <td>miniature_pinscher</td>\n",
       "      <td>0.796313</td>\n",
       "      <td>True</td>\n",
       "      <td>Chihuahua</td>\n",
       "      <td>0.155413</td>\n",
       "      <td>True</td>\n",
       "      <td>Staffordshire_bullterrier</td>\n",
       "      <td>0.030943</td>\n",
       "      <td>True</td>\n",
       "    </tr>\n",
       "    <tr>\n",
       "      <th>1804</th>\n",
       "      <td>832215726631055365</td>\n",
       "      <td>https://pbs.twimg.com/media/CwJR1okWIAA6XMp.jpg</td>\n",
       "      <td>1</td>\n",
       "      <td>Afghan_hound</td>\n",
       "      <td>0.274637</td>\n",
       "      <td>True</td>\n",
       "      <td>borzoi</td>\n",
       "      <td>0.142204</td>\n",
       "      <td>True</td>\n",
       "      <td>doormat</td>\n",
       "      <td>0.109677</td>\n",
       "      <td>False</td>\n",
       "    </tr>\n",
       "    <tr>\n",
       "      <th>1858</th>\n",
       "      <td>841833993020538882</td>\n",
       "      <td>https://pbs.twimg.com/ext_tw_video_thumb/81742...</td>\n",
       "      <td>1</td>\n",
       "      <td>ice_bear</td>\n",
       "      <td>0.336200</td>\n",
       "      <td>False</td>\n",
       "      <td>Samoyed</td>\n",
       "      <td>0.201358</td>\n",
       "      <td>True</td>\n",
       "      <td>Eskimo_dog</td>\n",
       "      <td>0.186789</td>\n",
       "      <td>True</td>\n",
       "    </tr>\n",
       "    <tr>\n",
       "      <th>1864</th>\n",
       "      <td>842892208864923648</td>\n",
       "      <td>https://pbs.twimg.com/ext_tw_video_thumb/80710...</td>\n",
       "      <td>1</td>\n",
       "      <td>Chihuahua</td>\n",
       "      <td>0.505370</td>\n",
       "      <td>True</td>\n",
       "      <td>Pomeranian</td>\n",
       "      <td>0.120358</td>\n",
       "      <td>True</td>\n",
       "      <td>toy_terrier</td>\n",
       "      <td>0.077008</td>\n",
       "      <td>True</td>\n",
       "    </tr>\n",
       "    <tr>\n",
       "      <th>1903</th>\n",
       "      <td>851953902622658560</td>\n",
       "      <td>https://pbs.twimg.com/media/C4KHj-nWQAA3poV.jpg</td>\n",
       "      <td>1</td>\n",
       "      <td>Staffordshire_bullterrier</td>\n",
       "      <td>0.757547</td>\n",
       "      <td>True</td>\n",
       "      <td>American_Staffordshire_terrier</td>\n",
       "      <td>0.149950</td>\n",
       "      <td>True</td>\n",
       "      <td>Chesapeake_Bay_retriever</td>\n",
       "      <td>0.047523</td>\n",
       "      <td>True</td>\n",
       "    </tr>\n",
       "    <tr>\n",
       "      <th>1944</th>\n",
       "      <td>861769973181624320</td>\n",
       "      <td>https://pbs.twimg.com/media/CzG425nWgAAnP7P.jpg</td>\n",
       "      <td>2</td>\n",
       "      <td>Arabian_camel</td>\n",
       "      <td>0.366248</td>\n",
       "      <td>False</td>\n",
       "      <td>house_finch</td>\n",
       "      <td>0.209852</td>\n",
       "      <td>False</td>\n",
       "      <td>cocker_spaniel</td>\n",
       "      <td>0.046403</td>\n",
       "      <td>True</td>\n",
       "    </tr>\n",
       "    <tr>\n",
       "      <th>1992</th>\n",
       "      <td>873697596434513921</td>\n",
       "      <td>https://pbs.twimg.com/media/DA7iHL5U0AA1OQo.jpg</td>\n",
       "      <td>1</td>\n",
       "      <td>laptop</td>\n",
       "      <td>0.153718</td>\n",
       "      <td>False</td>\n",
       "      <td>French_bulldog</td>\n",
       "      <td>0.099984</td>\n",
       "      <td>True</td>\n",
       "      <td>printer</td>\n",
       "      <td>0.077130</td>\n",
       "      <td>False</td>\n",
       "    </tr>\n",
       "    <tr>\n",
       "      <th>2041</th>\n",
       "      <td>885311592912609280</td>\n",
       "      <td>https://pbs.twimg.com/media/C4bTH6nWMAAX_bJ.jpg</td>\n",
       "      <td>1</td>\n",
       "      <td>Labrador_retriever</td>\n",
       "      <td>0.908703</td>\n",
       "      <td>True</td>\n",
       "      <td>seat_belt</td>\n",
       "      <td>0.057091</td>\n",
       "      <td>False</td>\n",
       "      <td>pug</td>\n",
       "      <td>0.011933</td>\n",
       "      <td>True</td>\n",
       "    </tr>\n",
       "    <tr>\n",
       "      <th>2055</th>\n",
       "      <td>888202515573088257</td>\n",
       "      <td>https://pbs.twimg.com/media/DFDw2tyUQAAAFke.jpg</td>\n",
       "      <td>2</td>\n",
       "      <td>Pembroke</td>\n",
       "      <td>0.809197</td>\n",
       "      <td>True</td>\n",
       "      <td>Rhodesian_ridgeback</td>\n",
       "      <td>0.054950</td>\n",
       "      <td>True</td>\n",
       "      <td>beagle</td>\n",
       "      <td>0.038915</td>\n",
       "      <td>True</td>\n",
       "    </tr>\n",
       "  </tbody>\n",
       "</table>\n",
       "<p>66 rows × 12 columns</p>\n",
       "</div>"
      ],
      "text/plain": [
       "                tweet_id                                            jpg_url  \\\n",
       "1297  752309394570878976  https://pbs.twimg.com/ext_tw_video_thumb/67535...   \n",
       "1315  754874841593970688    https://pbs.twimg.com/media/CWza7kpWcAAdYLc.jpg   \n",
       "1333  757729163776290825    https://pbs.twimg.com/media/CWyD2HGUYAQ1Xa7.jpg   \n",
       "1345  759159934323924993    https://pbs.twimg.com/media/CU1zsMSUAAAS0qW.jpg   \n",
       "1349  759566828574212096    https://pbs.twimg.com/media/CkNjahBXAAQ2kWo.jpg   \n",
       "1364  761371037149827077  https://pbs.twimg.com/tweet_video_thumb/CeBym7...   \n",
       "1368  761750502866649088    https://pbs.twimg.com/media/CYLDikFWEAAIy1y.jpg   \n",
       "1387  766078092750233600    https://pbs.twimg.com/media/ChK1tdBWwAQ1flD.jpg   \n",
       "1407  770093767776997377    https://pbs.twimg.com/media/CkjMx99UoAM2B1a.jpg   \n",
       "1417  771171053431250945    https://pbs.twimg.com/media/CVgdFjNWEAAxmbq.jpg   \n",
       "1427  772615324260794368    https://pbs.twimg.com/media/Cp6db4-XYAAMmqL.jpg   \n",
       "1446  775898661951791106    https://pbs.twimg.com/media/CiyHLocU4AI2pJu.jpg   \n",
       "1453  776819012571455488    https://pbs.twimg.com/media/CW88XN4WsAAlo8r.jpg   \n",
       "1456  777641927919427584    https://pbs.twimg.com/media/CmoPdmHW8AAi8BI.jpg   \n",
       "1463  778396591732486144    https://pbs.twimg.com/media/CcG07BYW0AErrC9.jpg   \n",
       "1476  780496263422808064    https://pbs.twimg.com/media/Ck2d7tJWUAEPTL3.jpg   \n",
       "1487  782021823840026624    https://pbs.twimg.com/media/CdHwZd0VIAA4792.jpg   \n",
       "1495  783347506784731136    https://pbs.twimg.com/media/CVuQ2LeUsAAIe3s.jpg   \n",
       "1510  786036967502913536    https://pbs.twimg.com/media/CtKHLuCWYAA2TTs.jpg   \n",
       "1522  788070120937619456    https://pbs.twimg.com/media/Co-hmcYXYAASkiG.jpg   \n",
       "1538  790723298204217344    https://pbs.twimg.com/media/CvaYgDOWgAEfjls.jpg   \n",
       "1541  791026214425268224    https://pbs.twimg.com/media/CpmyNumW8AAAJGj.jpg   \n",
       "1564  793614319594401792    https://pbs.twimg.com/media/CvyVxQRWEAAdSZS.jpg   \n",
       "1569  794355576146903043    https://pbs.twimg.com/media/CvJCabcWgAIoUxW.jpg   \n",
       "1571  794983741416415232    https://pbs.twimg.com/media/CvT6IV6WEAQhhV5.jpg   \n",
       "1579  796177847564038144    https://pbs.twimg.com/media/Cwx99rpW8AMk_Ie.jpg   \n",
       "1588  798340744599797760    https://pbs.twimg.com/media/CrXhIqBW8AA6Bse.jpg   \n",
       "1589  798628517273620480    https://pbs.twimg.com/media/CUN4Or5UAAAa5K4.jpg   \n",
       "1590  798644042770751489    https://pbs.twimg.com/media/CU3mITUWIAAfyQS.jpg   \n",
       "1591  798665375516884993    https://pbs.twimg.com/media/CVMOlMiWwAA4Yxl.jpg   \n",
       "...                  ...                                                ...   \n",
       "1619  802624713319034886    https://pbs.twimg.com/media/CsrjryzWgAAZY00.jpg   \n",
       "1624  803692223237865472    https://pbs.twimg.com/media/CZhn-QAWwAASQan.jpg   \n",
       "1627  804413760345620481    https://pbs.twimg.com/media/CuRDF-XWcAIZSer.jpg   \n",
       "1634  805958939288408065    https://pbs.twimg.com/media/CtzKC7zXEAALfSo.jpg   \n",
       "1636  806242860592926720    https://pbs.twimg.com/media/Ct72q9jWcAAhlnw.jpg   \n",
       "1640  807059379405148160    https://pbs.twimg.com/media/Ct2qO5PXEAE6eB0.jpg   \n",
       "1645  808134635716833280    https://pbs.twimg.com/media/Cx5R8wPVEAALa9r.jpg   \n",
       "1652  809808892968534016    https://pbs.twimg.com/media/CwS4aqZXUAAe3IO.jpg   \n",
       "1683  813944609378369540    https://pbs.twimg.com/media/Cveg1-NXgAASaaT.jpg   \n",
       "1693  816014286006976512    https://pbs.twimg.com/media/CiibOMzUYAA9Mxz.jpg   \n",
       "1699  816829038950027264    https://pbs.twimg.com/media/CvoBPWRWgAA4het.jpg   \n",
       "1703  817181837579653120  https://pbs.twimg.com/ext_tw_video_thumb/81596...   \n",
       "1712  818588835076603904    https://pbs.twimg.com/media/Crwxb5yWgAAX5P_.jpg   \n",
       "1717  819015331746349057    https://pbs.twimg.com/media/C12x-JTVIAAzdfl.jpg   \n",
       "1718  819015337530290176    https://pbs.twimg.com/media/C12whDoVEAALRxa.jpg   \n",
       "1727  820446719150292993    https://pbs.twimg.com/media/CxqsX-8XUAAEvjD.jpg   \n",
       "1736  821813639212650496    https://pbs.twimg.com/media/CtVAvX-WIAAcGTf.jpg   \n",
       "1742  822647212903690241    https://pbs.twimg.com/media/C2oRbOuWEAAbVSl.jpg   \n",
       "1746  823269594223824897    https://pbs.twimg.com/media/C2kzTGxWEAEOpPL.jpg   \n",
       "1755  824796380199809024    https://pbs.twimg.com/media/CwiuEJmW8AAZnit.jpg   \n",
       "1789  829878982036299777    https://pbs.twimg.com/media/C3nygbBWQAAjwcW.jpg   \n",
       "1803  832040443403784192    https://pbs.twimg.com/media/Cq9guJ5WgAADfpF.jpg   \n",
       "1804  832215726631055365    https://pbs.twimg.com/media/CwJR1okWIAA6XMp.jpg   \n",
       "1858  841833993020538882  https://pbs.twimg.com/ext_tw_video_thumb/81742...   \n",
       "1864  842892208864923648  https://pbs.twimg.com/ext_tw_video_thumb/80710...   \n",
       "1903  851953902622658560    https://pbs.twimg.com/media/C4KHj-nWQAA3poV.jpg   \n",
       "1944  861769973181624320    https://pbs.twimg.com/media/CzG425nWgAAnP7P.jpg   \n",
       "1992  873697596434513921    https://pbs.twimg.com/media/DA7iHL5U0AA1OQo.jpg   \n",
       "2041  885311592912609280    https://pbs.twimg.com/media/C4bTH6nWMAAX_bJ.jpg   \n",
       "2055  888202515573088257    https://pbs.twimg.com/media/DFDw2tyUQAAAFke.jpg   \n",
       "\n",
       "      img_num                         p1   p1_conf  p1_dog  \\\n",
       "1297        1                    upright  0.303415   False   \n",
       "1315        1                        pug  0.272205    True   \n",
       "1333        2               cash_machine  0.802333   False   \n",
       "1345        1              Irish_terrier  0.254856    True   \n",
       "1349        1         Labrador_retriever  0.967397    True   \n",
       "1364        1                 brown_bear  0.713293   False   \n",
       "1368        1           golden_retriever  0.586937    True   \n",
       "1387        1                 toy_poodle  0.420463    True   \n",
       "1407        1           golden_retriever  0.843799    True   \n",
       "1417        3                    Samoyed  0.978833    True   \n",
       "1427        1                  dalmatian  0.556595    True   \n",
       "1446        1           golden_retriever  0.945523    True   \n",
       "1453        3                  Chihuahua  0.346545    True   \n",
       "1456        1           golden_retriever  0.964929    True   \n",
       "1463        1               hippopotamus  0.581403   False   \n",
       "1476        1                        pug  0.997310    True   \n",
       "1487        1           golden_retriever  0.383223    True   \n",
       "1495        1                   Cardigan  0.611525    True   \n",
       "1510        1           golden_retriever  0.993830    True   \n",
       "1522        1           golden_retriever  0.735163    True   \n",
       "1538        1                        tub  0.479477   False   \n",
       "1541        1                   malamute  0.375098    True   \n",
       "1564        1           golden_retriever  0.705092    True   \n",
       "1569        1             cocker_spaniel  0.500509    True   \n",
       "1571        3                 schipperke  0.363272    True   \n",
       "1579        1           golden_retriever  0.600276    True   \n",
       "1588        1                   papillon  0.533180    True   \n",
       "1589        1                     beagle  0.636169    True   \n",
       "1590        1           English_springer  0.403698    True   \n",
       "1591        1                       chow  0.243529    True   \n",
       "...       ...                        ...       ...     ...   \n",
       "1619        1             cocker_spaniel  0.253442    True   \n",
       "1624        1           Lakeland_terrier  0.530104    True   \n",
       "1627        1                       chow  0.090341    True   \n",
       "1634        1               Irish_setter  0.574557    True   \n",
       "1636        2                   Cardigan  0.593858    True   \n",
       "1640        1                  seat_belt  0.474292   False   \n",
       "1645        1             cocker_spaniel  0.740220    True   \n",
       "1652        1         Labrador_retriever  0.861651    True   \n",
       "1683        1         Labrador_retriever  0.427742    True   \n",
       "1693        1             English_setter  0.677408    True   \n",
       "1699        1                 dishwasher  0.700466   False   \n",
       "1703        1            Tibetan_mastiff  0.506312    True   \n",
       "1712        1         Norwegian_elkhound  0.372202    True   \n",
       "1717        4                     prison  0.907083   False   \n",
       "1718        1            standard_poodle  0.351308    True   \n",
       "1727        3           golden_retriever  0.938048    True   \n",
       "1736        1              Saint_Bernard  0.995143    True   \n",
       "1742        1                    Samoyed  0.416769    True   \n",
       "1746        1                    Samoyed  0.585441    True   \n",
       "1755        2                   gas_pump  0.676439   False   \n",
       "1789        1           golden_retriever  0.617389    True   \n",
       "1803        1         miniature_pinscher  0.796313    True   \n",
       "1804        1               Afghan_hound  0.274637    True   \n",
       "1858        1                   ice_bear  0.336200   False   \n",
       "1864        1                  Chihuahua  0.505370    True   \n",
       "1903        1  Staffordshire_bullterrier  0.757547    True   \n",
       "1944        2              Arabian_camel  0.366248   False   \n",
       "1992        1                     laptop  0.153718   False   \n",
       "2041        1         Labrador_retriever  0.908703    True   \n",
       "2055        2                   Pembroke  0.809197    True   \n",
       "\n",
       "                                  p2   p2_conf  p2_dog  \\\n",
       "1297                golden_retriever  0.181351    True   \n",
       "1315                    bull_mastiff  0.251530    True   \n",
       "1333                      schipperke  0.045519    True   \n",
       "1345                          briard  0.227716    True   \n",
       "1349                golden_retriever  0.016641    True   \n",
       "1364                 Indian_elephant  0.172844   False   \n",
       "1368              Labrador_retriever  0.398260    True   \n",
       "1387                miniature_poodle  0.132640    True   \n",
       "1407              Labrador_retriever  0.052956    True   \n",
       "1417                      Pomeranian  0.012763    True   \n",
       "1427                         whippet  0.151047    True   \n",
       "1446              Labrador_retriever  0.042319    True   \n",
       "1453                       dalmatian  0.166246    True   \n",
       "1456              Labrador_retriever  0.011584    True   \n",
       "1463                         doormat  0.152445   False   \n",
       "1476               Brabancon_griffon  0.001186    True   \n",
       "1487                  cocker_spaniel  0.165930    True   \n",
       "1495                        Pembroke  0.368566    True   \n",
       "1510                  cocker_spaniel  0.003143    True   \n",
       "1522                  Sussex_spaniel  0.064897    True   \n",
       "1538                         bathtub  0.325106   False   \n",
       "1541                            jean  0.069362   False   \n",
       "1564              Labrador_retriever  0.219721    True   \n",
       "1569                golden_retriever  0.272734    True   \n",
       "1571                          kelpie  0.197021    True   \n",
       "1579              Labrador_retriever  0.140798    True   \n",
       "1588                          collie  0.192031    True   \n",
       "1589              Labrador_retriever  0.119256    True   \n",
       "1590                Brittany_spaniel  0.347609    True   \n",
       "1591                         hamster  0.227150   False   \n",
       "...                              ...       ...     ...   \n",
       "1619                golden_retriever  0.162850    True   \n",
       "1624                   Irish_terrier  0.197314    True   \n",
       "1627                      binoculars  0.083499   False   \n",
       "1634                golden_retriever  0.339251    True   \n",
       "1636               Shetland_sheepdog  0.130611    True   \n",
       "1640                golden_retriever  0.171393    True   \n",
       "1645                  Dandie_Dinmont  0.061604    True   \n",
       "1652                golden_retriever  0.044462    True   \n",
       "1683                      Great_Dane  0.190503    True   \n",
       "1693                   Border_collie  0.052724    True   \n",
       "1699                golden_retriever  0.245773    True   \n",
       "1703                 Tibetan_terrier  0.295690    True   \n",
       "1712        Chesapeake_Bay_retriever  0.137187    True   \n",
       "1717                          palace  0.020089   False   \n",
       "1718                      toy_poodle  0.271929    True   \n",
       "1727                          kuvasz  0.025119    True   \n",
       "1736                        Cardigan  0.003044    True   \n",
       "1742                        malamute  0.252706    True   \n",
       "1746                      Pomeranian  0.193654    True   \n",
       "1755                       harvester  0.049995   False   \n",
       "1789              Labrador_retriever  0.337053    True   \n",
       "1803                       Chihuahua  0.155413    True   \n",
       "1804                          borzoi  0.142204    True   \n",
       "1858                         Samoyed  0.201358    True   \n",
       "1864                      Pomeranian  0.120358    True   \n",
       "1903  American_Staffordshire_terrier  0.149950    True   \n",
       "1944                     house_finch  0.209852   False   \n",
       "1992                  French_bulldog  0.099984    True   \n",
       "2041                       seat_belt  0.057091   False   \n",
       "2055             Rhodesian_ridgeback  0.054950    True   \n",
       "\n",
       "                                  p3   p3_conf  p3_dog  \n",
       "1297                Brittany_spaniel  0.162084    True  \n",
       "1315                      bath_towel  0.116806   False  \n",
       "1333                 German_shepherd  0.023353    True  \n",
       "1345     soft-coated_wheaten_terrier  0.223263    True  \n",
       "1349                        ice_bear  0.014858   False  \n",
       "1364                   water_buffalo  0.038902   False  \n",
       "1368                          kuvasz  0.005410    True  \n",
       "1387        Chesapeake_Bay_retriever  0.121523    True  \n",
       "1407                          kelpie  0.035711    True  \n",
       "1417                      Eskimo_dog  0.001853    True  \n",
       "1427  American_Staffordshire_terrier  0.096435    True  \n",
       "1446                         doormat  0.003956   False  \n",
       "1453                     toy_terrier  0.117502    True  \n",
       "1456                    refrigerator  0.007499   False  \n",
       "1463                        sea_lion  0.026364   False  \n",
       "1476                  French_bulldog  0.000428    True  \n",
       "1487        Chesapeake_Bay_retriever  0.118199    True  \n",
       "1495                       Chihuahua  0.003330    True  \n",
       "1510                  Great_Pyrenees  0.000917    True  \n",
       "1522              Labrador_retriever  0.047704    True  \n",
       "1538                golden_retriever  0.078530    True  \n",
       "1541                        keeshond  0.050528    True  \n",
       "1564                          kuvasz  0.015965    True  \n",
       "1569                   jigsaw_puzzle  0.041476   False  \n",
       "1571              Norwegian_elkhound  0.151024    True  \n",
       "1579                       seat_belt  0.087355   False  \n",
       "1588                   Border_collie  0.121626    True  \n",
       "1589                golden_retriever  0.082549    True  \n",
       "1590          Welsh_springer_spaniel  0.137186    True  \n",
       "1591                      Pomeranian  0.056057    True  \n",
       "...                              ...       ...     ...  \n",
       "1619                      otterhound  0.110921    True  \n",
       "1624                        Airedale  0.082515    True  \n",
       "1627                    Irish_setter  0.077456    True  \n",
       "1634                       seat_belt  0.046108   False  \n",
       "1636                        Pembroke  0.100842    True  \n",
       "1640              Labrador_retriever  0.110592    True  \n",
       "1645                  English_setter  0.041331    True  \n",
       "1652       Staffordshire_bullterrier  0.016497    True  \n",
       "1683          curly-coated_retriever  0.146427    True  \n",
       "1693                  cocker_spaniel  0.048572    True  \n",
       "1699                            chow  0.039012    True  \n",
       "1703                      otterhound  0.036251    True  \n",
       "1712                        malamute  0.071436    True  \n",
       "1717                        umbrella  0.007850   False  \n",
       "1718                 Tibetan_terrier  0.094759    True  \n",
       "1727              Labrador_retriever  0.022977    True  \n",
       "1736                English_springer  0.001050    True  \n",
       "1742                          kuvasz  0.157028    True  \n",
       "1746                      Arctic_fox  0.071648   False  \n",
       "1755                           swing  0.044660   False  \n",
       "1789                     tennis_ball  0.008554   False  \n",
       "1803       Staffordshire_bullterrier  0.030943    True  \n",
       "1804                         doormat  0.109677   False  \n",
       "1858                      Eskimo_dog  0.186789    True  \n",
       "1864                     toy_terrier  0.077008    True  \n",
       "1903        Chesapeake_Bay_retriever  0.047523    True  \n",
       "1944                  cocker_spaniel  0.046403    True  \n",
       "1992                         printer  0.077130   False  \n",
       "2041                             pug  0.011933    True  \n",
       "2055                          beagle  0.038915    True  \n",
       "\n",
       "[66 rows x 12 columns]"
      ]
     },
     "execution_count": 190,
     "metadata": {},
     "output_type": "execute_result"
    }
   ],
   "source": [
    "# checks for duplicated entries in jpg_url\n",
    "image_pred_df[image_pred_df.jpg_url.duplicated()]"
   ]
  },
  {
   "cell_type": "code",
   "execution_count": 191,
   "metadata": {},
   "outputs": [
    {
     "data": {
      "text/plain": [
       "66"
      ]
     },
     "execution_count": 191,
     "metadata": {},
     "output_type": "execute_result"
    }
   ],
   "source": [
    "# Count of duplicate jpg_url\n",
    "image_pred_df[image_pred_df.jpg_url.duplicated()].shape[0]"
   ]
  },
  {
   "cell_type": "markdown",
   "metadata": {},
   "source": [
    "**jpg_url contains duplicate items means duplicate image links**"
   ]
  },
  {
   "cell_type": "code",
   "execution_count": 192,
   "metadata": {},
   "outputs": [
    {
     "data": {
      "text/plain": [
       "1    1780\n",
       "2     198\n",
       "3      66\n",
       "4      31\n",
       "Name: img_num, dtype: int64"
      ]
     },
     "execution_count": 192,
     "metadata": {},
     "output_type": "execute_result"
    }
   ],
   "source": [
    "image_pred_df.img_num.value_counts()"
   ]
  },
  {
   "cell_type": "markdown",
   "metadata": {},
   "source": [
    "### Access tweet_counts_df"
   ]
  },
  {
   "cell_type": "code",
   "execution_count": 193,
   "metadata": {},
   "outputs": [
    {
     "data": {
      "text/html": [
       "<div>\n",
       "<style scoped>\n",
       "    .dataframe tbody tr th:only-of-type {\n",
       "        vertical-align: middle;\n",
       "    }\n",
       "\n",
       "    .dataframe tbody tr th {\n",
       "        vertical-align: top;\n",
       "    }\n",
       "\n",
       "    .dataframe thead th {\n",
       "        text-align: right;\n",
       "    }\n",
       "</style>\n",
       "<table border=\"1\" class=\"dataframe\">\n",
       "  <thead>\n",
       "    <tr style=\"text-align: right;\">\n",
       "      <th></th>\n",
       "      <th>tweet_id</th>\n",
       "      <th>favorite_count</th>\n",
       "      <th>retweet_count</th>\n",
       "    </tr>\n",
       "  </thead>\n",
       "  <tbody>\n",
       "    <tr>\n",
       "      <th>0</th>\n",
       "      <td>892420643555336193</td>\n",
       "      <td>36324</td>\n",
       "      <td>7728</td>\n",
       "    </tr>\n",
       "    <tr>\n",
       "      <th>1</th>\n",
       "      <td>892177421306343426</td>\n",
       "      <td>31306</td>\n",
       "      <td>5721</td>\n",
       "    </tr>\n",
       "    <tr>\n",
       "      <th>2</th>\n",
       "      <td>891815181378084864</td>\n",
       "      <td>23585</td>\n",
       "      <td>3786</td>\n",
       "    </tr>\n",
       "    <tr>\n",
       "      <th>3</th>\n",
       "      <td>891689557279858688</td>\n",
       "      <td>39633</td>\n",
       "      <td>7892</td>\n",
       "    </tr>\n",
       "    <tr>\n",
       "      <th>4</th>\n",
       "      <td>891327558926688256</td>\n",
       "      <td>37834</td>\n",
       "      <td>8512</td>\n",
       "    </tr>\n",
       "  </tbody>\n",
       "</table>\n",
       "</div>"
      ],
      "text/plain": [
       "             tweet_id  favorite_count  retweet_count\n",
       "0  892420643555336193           36324           7728\n",
       "1  892177421306343426           31306           5721\n",
       "2  891815181378084864           23585           3786\n",
       "3  891689557279858688           39633           7892\n",
       "4  891327558926688256           37834           8512"
      ]
     },
     "execution_count": 193,
     "metadata": {},
     "output_type": "execute_result"
    }
   ],
   "source": [
    "tweet_counts_df.head()"
   ]
  },
  {
   "cell_type": "code",
   "execution_count": 194,
   "metadata": {},
   "outputs": [
    {
     "data": {
      "text/html": [
       "<div>\n",
       "<style scoped>\n",
       "    .dataframe tbody tr th:only-of-type {\n",
       "        vertical-align: middle;\n",
       "    }\n",
       "\n",
       "    .dataframe tbody tr th {\n",
       "        vertical-align: top;\n",
       "    }\n",
       "\n",
       "    .dataframe thead th {\n",
       "        text-align: right;\n",
       "    }\n",
       "</style>\n",
       "<table border=\"1\" class=\"dataframe\">\n",
       "  <thead>\n",
       "    <tr style=\"text-align: right;\">\n",
       "      <th></th>\n",
       "      <th>tweet_id</th>\n",
       "      <th>favorite_count</th>\n",
       "      <th>retweet_count</th>\n",
       "    </tr>\n",
       "  </thead>\n",
       "  <tbody>\n",
       "    <tr>\n",
       "      <th>752</th>\n",
       "      <td>776813020089548800</td>\n",
       "      <td>4958</td>\n",
       "      <td>1234</td>\n",
       "    </tr>\n",
       "    <tr>\n",
       "      <th>1082</th>\n",
       "      <td>734787690684657664</td>\n",
       "      <td>12520</td>\n",
       "      <td>6265</td>\n",
       "    </tr>\n",
       "    <tr>\n",
       "      <th>1323</th>\n",
       "      <td>704364645503647744</td>\n",
       "      <td>7998</td>\n",
       "      <td>3546</td>\n",
       "    </tr>\n",
       "    <tr>\n",
       "      <th>713</th>\n",
       "      <td>781655249211752448</td>\n",
       "      <td>4075</td>\n",
       "      <td>1146</td>\n",
       "    </tr>\n",
       "    <tr>\n",
       "      <th>1934</th>\n",
       "      <td>673576835670777856</td>\n",
       "      <td>1347</td>\n",
       "      <td>545</td>\n",
       "    </tr>\n",
       "    <tr>\n",
       "      <th>1199</th>\n",
       "      <td>714251586676113411</td>\n",
       "      <td>3270</td>\n",
       "      <td>830</td>\n",
       "    </tr>\n",
       "    <tr>\n",
       "      <th>1439</th>\n",
       "      <td>694669722378485760</td>\n",
       "      <td>35793</td>\n",
       "      <td>14380</td>\n",
       "    </tr>\n",
       "    <tr>\n",
       "      <th>1892</th>\n",
       "      <td>674291837063053312</td>\n",
       "      <td>14320</td>\n",
       "      <td>5670</td>\n",
       "    </tr>\n",
       "    <tr>\n",
       "      <th>2246</th>\n",
       "      <td>667495797102141441</td>\n",
       "      <td>503</td>\n",
       "      <td>254</td>\n",
       "    </tr>\n",
       "    <tr>\n",
       "      <th>1011</th>\n",
       "      <td>744995568523612160</td>\n",
       "      <td>2973</td>\n",
       "      <td>623</td>\n",
       "    </tr>\n",
       "    <tr>\n",
       "      <th>2058</th>\n",
       "      <td>670811965569282048</td>\n",
       "      <td>1092</td>\n",
       "      <td>261</td>\n",
       "    </tr>\n",
       "    <tr>\n",
       "      <th>1500</th>\n",
       "      <td>690597161306841088</td>\n",
       "      <td>1954</td>\n",
       "      <td>602</td>\n",
       "    </tr>\n",
       "    <tr>\n",
       "      <th>1295</th>\n",
       "      <td>706516534877929472</td>\n",
       "      <td>3102</td>\n",
       "      <td>1029</td>\n",
       "    </tr>\n",
       "    <tr>\n",
       "      <th>1978</th>\n",
       "      <td>672475084225949696</td>\n",
       "      <td>1398</td>\n",
       "      <td>676</td>\n",
       "    </tr>\n",
       "    <tr>\n",
       "      <th>1631</th>\n",
       "      <td>683391852557561860</td>\n",
       "      <td>7633</td>\n",
       "      <td>2398</td>\n",
       "    </tr>\n",
       "    <tr>\n",
       "      <th>359</th>\n",
       "      <td>828372645993398273</td>\n",
       "      <td>12692</td>\n",
       "      <td>2980</td>\n",
       "    </tr>\n",
       "    <tr>\n",
       "      <th>1623</th>\n",
       "      <td>683828599284170753</td>\n",
       "      <td>2797</td>\n",
       "      <td>1062</td>\n",
       "    </tr>\n",
       "    <tr>\n",
       "      <th>1359</th>\n",
       "      <td>700847567345688576</td>\n",
       "      <td>2457</td>\n",
       "      <td>500</td>\n",
       "    </tr>\n",
       "    <tr>\n",
       "      <th>2211</th>\n",
       "      <td>668154635664932864</td>\n",
       "      <td>479</td>\n",
       "      <td>296</td>\n",
       "    </tr>\n",
       "    <tr>\n",
       "      <th>699</th>\n",
       "      <td>783695101801398276</td>\n",
       "      <td>10678</td>\n",
       "      <td>3285</td>\n",
       "    </tr>\n",
       "  </tbody>\n",
       "</table>\n",
       "</div>"
      ],
      "text/plain": [
       "                tweet_id  favorite_count  retweet_count\n",
       "752   776813020089548800            4958           1234\n",
       "1082  734787690684657664           12520           6265\n",
       "1323  704364645503647744            7998           3546\n",
       "713   781655249211752448            4075           1146\n",
       "1934  673576835670777856            1347            545\n",
       "1199  714251586676113411            3270            830\n",
       "1439  694669722378485760           35793          14380\n",
       "1892  674291837063053312           14320           5670\n",
       "2246  667495797102141441             503            254\n",
       "1011  744995568523612160            2973            623\n",
       "2058  670811965569282048            1092            261\n",
       "1500  690597161306841088            1954            602\n",
       "1295  706516534877929472            3102           1029\n",
       "1978  672475084225949696            1398            676\n",
       "1631  683391852557561860            7633           2398\n",
       "359   828372645993398273           12692           2980\n",
       "1623  683828599284170753            2797           1062\n",
       "1359  700847567345688576            2457            500\n",
       "2211  668154635664932864             479            296\n",
       "699   783695101801398276           10678           3285"
      ]
     },
     "execution_count": 194,
     "metadata": {},
     "output_type": "execute_result"
    }
   ],
   "source": [
    "tweet_counts_df.sample(20)"
   ]
  },
  {
   "cell_type": "code",
   "execution_count": 195,
   "metadata": {},
   "outputs": [
    {
     "name": "stdout",
     "output_type": "stream",
     "text": [
      "<class 'pandas.core.frame.DataFrame'>\n",
      "RangeIndex: 2331 entries, 0 to 2330\n",
      "Data columns (total 3 columns):\n",
      "tweet_id          2331 non-null object\n",
      "favorite_count    2331 non-null int64\n",
      "retweet_count     2331 non-null int64\n",
      "dtypes: int64(2), object(1)\n",
      "memory usage: 54.7+ KB\n"
     ]
    }
   ],
   "source": [
    "tweet_counts_df.info()"
   ]
  },
  {
   "cell_type": "markdown",
   "metadata": {},
   "source": [
    "**tweet_id is an object**"
   ]
  },
  {
   "cell_type": "code",
   "execution_count": 196,
   "metadata": {},
   "outputs": [
    {
     "data": {
      "text/html": [
       "<div>\n",
       "<style scoped>\n",
       "    .dataframe tbody tr th:only-of-type {\n",
       "        vertical-align: middle;\n",
       "    }\n",
       "\n",
       "    .dataframe tbody tr th {\n",
       "        vertical-align: top;\n",
       "    }\n",
       "\n",
       "    .dataframe thead th {\n",
       "        text-align: right;\n",
       "    }\n",
       "</style>\n",
       "<table border=\"1\" class=\"dataframe\">\n",
       "  <thead>\n",
       "    <tr style=\"text-align: right;\">\n",
       "      <th></th>\n",
       "      <th>favorite_count</th>\n",
       "      <th>retweet_count</th>\n",
       "    </tr>\n",
       "  </thead>\n",
       "  <tbody>\n",
       "    <tr>\n",
       "      <th>count</th>\n",
       "      <td>2331.000000</td>\n",
       "      <td>2331.000000</td>\n",
       "    </tr>\n",
       "    <tr>\n",
       "      <th>mean</th>\n",
       "      <td>7587.457743</td>\n",
       "      <td>2713.799657</td>\n",
       "    </tr>\n",
       "    <tr>\n",
       "      <th>std</th>\n",
       "      <td>11773.904822</td>\n",
       "      <td>4589.785424</td>\n",
       "    </tr>\n",
       "    <tr>\n",
       "      <th>min</th>\n",
       "      <td>0.000000</td>\n",
       "      <td>1.000000</td>\n",
       "    </tr>\n",
       "    <tr>\n",
       "      <th>25%</th>\n",
       "      <td>1324.000000</td>\n",
       "      <td>548.500000</td>\n",
       "    </tr>\n",
       "    <tr>\n",
       "      <th>50%</th>\n",
       "      <td>3303.000000</td>\n",
       "      <td>1274.000000</td>\n",
       "    </tr>\n",
       "    <tr>\n",
       "      <th>75%</th>\n",
       "      <td>9296.500000</td>\n",
       "      <td>3152.000000</td>\n",
       "    </tr>\n",
       "    <tr>\n",
       "      <th>max</th>\n",
       "      <td>156794.000000</td>\n",
       "      <td>78127.000000</td>\n",
       "    </tr>\n",
       "  </tbody>\n",
       "</table>\n",
       "</div>"
      ],
      "text/plain": [
       "       favorite_count  retweet_count\n",
       "count     2331.000000    2331.000000\n",
       "mean      7587.457743    2713.799657\n",
       "std      11773.904822    4589.785424\n",
       "min          0.000000       1.000000\n",
       "25%       1324.000000     548.500000\n",
       "50%       3303.000000    1274.000000\n",
       "75%       9296.500000    3152.000000\n",
       "max     156794.000000   78127.000000"
      ]
     },
     "execution_count": 196,
     "metadata": {},
     "output_type": "execute_result"
    }
   ],
   "source": [
    "tweet_counts_df.describe()"
   ]
  },
  {
   "cell_type": "code",
   "execution_count": 197,
   "metadata": {},
   "outputs": [
    {
     "data": {
      "text/html": [
       "<div>\n",
       "<style scoped>\n",
       "    .dataframe tbody tr th:only-of-type {\n",
       "        vertical-align: middle;\n",
       "    }\n",
       "\n",
       "    .dataframe tbody tr th {\n",
       "        vertical-align: top;\n",
       "    }\n",
       "\n",
       "    .dataframe thead th {\n",
       "        text-align: right;\n",
       "    }\n",
       "</style>\n",
       "<table border=\"1\" class=\"dataframe\">\n",
       "  <thead>\n",
       "    <tr style=\"text-align: right;\">\n",
       "      <th></th>\n",
       "      <th>tweet_id</th>\n",
       "      <th>favorite_count</th>\n",
       "      <th>retweet_count</th>\n",
       "    </tr>\n",
       "  </thead>\n",
       "  <tbody>\n",
       "  </tbody>\n",
       "</table>\n",
       "</div>"
      ],
      "text/plain": [
       "Empty DataFrame\n",
       "Columns: [tweet_id, favorite_count, retweet_count]\n",
       "Index: []"
      ]
     },
     "execution_count": 197,
     "metadata": {},
     "output_type": "execute_result"
    }
   ],
   "source": [
    "# checks for duplicated entries in tweet_counts_df\n",
    "tweet_counts_df[tweet_counts_df.tweet_id.duplicated()]"
   ]
  },
  {
   "cell_type": "markdown",
   "metadata": {},
   "source": [
    "**No Duplicate entries present**"
   ]
  },
  {
   "cell_type": "markdown",
   "metadata": {},
   "source": [
    "### Quality Issues\n",
    "\n",
    "**archive_df:**\n",
    "- Missing data in the following columns: in_reply_to_status_id, in_reply_to_user_id, retweeted_status_id, retweeted_status_user_id, retweeted_status_timestamp, expanded_urls [Solved]\n",
    "- This dataset includes retweets, which means there is duplicated data [Solved]\n",
    "- Timestamp and retweeted_status_timestamp is an object [Solved]\n",
    "- The source column still has the HTML tags [Solved]\n",
    "- Dogs name have 'None', or 'a', or 'an.' and some more lower case words as names [Solved]\n",
    "- The rating_numerator and rating_denominator is highly positive skewed [Solved]\n",
    "- Multiple dog stages occurs such as 'doggo puppo', 'doggo pupper', 'doggo floofer' [Solved]\n",
    "\n",
    "**image_pred_df**:\n",
    "\n",
    "- dog breeds are not consistently in p1,p2,p3 columns [Solved]\n",
    "\n",
    "**tweet_counts_df:**\n",
    "- Missing data [Solved]\n",
    "- tweet_id is an object [Solved]\n",
    "\n",
    "\n",
    "### Tidiness Issues\n",
    "\n",
    "**archive_df:**\n",
    "- The variable for the dog's stage (dogoo, floofer, pupper, puppo) is spread in different columns [Solved]\n",
    "\n",
    "**image_pred_df**:\n",
    "\n",
    "- This data set is part of the same observational unit as the data in the archive_df [Solved]\n",
    "\n",
    "**tweet_counts_df:**\n",
    "\n",
    "- This data set is also part of the same observational unit as the data in the archive_df [Solved]\n"
   ]
  },
  {
   "cell_type": "markdown",
   "metadata": {},
   "source": [
    "## Cleaning Data\n"
   ]
  },
  {
   "cell_type": "markdown",
   "metadata": {},
   "source": [
    "**Making a copy of the dataframes before cleaning**"
   ]
  },
  {
   "cell_type": "code",
   "execution_count": 198,
   "metadata": {},
   "outputs": [],
   "source": [
    "archive_clean = archive_df.copy()\n",
    "image_pred_clean = image_pred_df.copy()\n",
    "tweet_counts_clean = tweet_counts_df.copy()"
   ]
  },
  {
   "cell_type": "markdown",
   "metadata": {},
   "source": [
    "**DEFINE-CODE-TEST**\n",
    "\n",
    "1. Creates a predicted dog breed column, based on the the confidence level of minimum 20% and 'p1_dog', 'p2_dog' and 'p3_dog' statements\n",
    "2. Create one column for the various dog types: doggo, floofer, pupper, puppo, 'doggo, puppo', 'doggo, pupper', 'doggo, floofer'\n",
    "3. Convert the tweet_id in tweet_counts_clean into int64 type for merging.\n",
    "4. Merge the copied archive_clean, image_pred_clean, and tweet_counts_clean dataframes\n",
    "5. Convert the tweet_id in master_df into object type\n",
    "6. Replace 'a', 'an', 'the', 'None' and other lower case words with NaN in name column\n",
    "7. Remove Inconsistency in pred_breed\n",
    "8. Delete retweets\n",
    "9. Remove columns no longer needed: in_reply_to_status_id, in_reply_to_user_id, retweeted_status_id, retweeted_status_user_id, and retweeted_status_timestamp\n",
    "10. Change the timestamp to correct datetime format\n",
    "11. Removing HTML tags from source column\n",
    "12. Standardize dog ratings\n"
   ]
  },
  {
   "cell_type": "markdown",
   "metadata": {},
   "source": []
  },
  {
   "cell_type": "markdown",
   "metadata": {},
   "source": [
    "**DEFINE**\n",
    "\n",
    "**1. Creates a predicted dog breed column, based on the the confidence level of minimum 20% and 'p1_dog', 'p2_dog' and 'p3_dog' statements**"
   ]
  },
  {
   "cell_type": "markdown",
   "metadata": {},
   "source": [
    "**CODE**"
   ]
  },
  {
   "cell_type": "code",
   "execution_count": 199,
   "metadata": {},
   "outputs": [
    {
     "data": {
      "text/html": [
       "<div>\n",
       "<style scoped>\n",
       "    .dataframe tbody tr th:only-of-type {\n",
       "        vertical-align: middle;\n",
       "    }\n",
       "\n",
       "    .dataframe tbody tr th {\n",
       "        vertical-align: top;\n",
       "    }\n",
       "\n",
       "    .dataframe thead th {\n",
       "        text-align: right;\n",
       "    }\n",
       "</style>\n",
       "<table border=\"1\" class=\"dataframe\">\n",
       "  <thead>\n",
       "    <tr style=\"text-align: right;\">\n",
       "      <th></th>\n",
       "      <th>tweet_id</th>\n",
       "      <th>jpg_url</th>\n",
       "      <th>img_num</th>\n",
       "      <th>p1</th>\n",
       "      <th>p1_conf</th>\n",
       "      <th>p1_dog</th>\n",
       "      <th>p2</th>\n",
       "      <th>p2_conf</th>\n",
       "      <th>p2_dog</th>\n",
       "      <th>p3</th>\n",
       "      <th>p3_conf</th>\n",
       "      <th>p3_dog</th>\n",
       "    </tr>\n",
       "  </thead>\n",
       "  <tbody>\n",
       "    <tr>\n",
       "      <th>1622</th>\n",
       "      <td>803380650405482500</td>\n",
       "      <td>https://pbs.twimg.com/media/CyYub2kWEAEYdaq.jpg</td>\n",
       "      <td>1</td>\n",
       "      <td>bookcase</td>\n",
       "      <td>0.890601</td>\n",
       "      <td>False</td>\n",
       "      <td>entertainment_center</td>\n",
       "      <td>0.019287</td>\n",
       "      <td>False</td>\n",
       "      <td>file</td>\n",
       "      <td>0.00949</td>\n",
       "      <td>False</td>\n",
       "    </tr>\n",
       "  </tbody>\n",
       "</table>\n",
       "</div>"
      ],
      "text/plain": [
       "                tweet_id                                          jpg_url  \\\n",
       "1622  803380650405482500  https://pbs.twimg.com/media/CyYub2kWEAEYdaq.jpg   \n",
       "\n",
       "      img_num        p1   p1_conf  p1_dog                    p2   p2_conf  \\\n",
       "1622        1  bookcase  0.890601   False  entertainment_center  0.019287   \n",
       "\n",
       "      p2_dog    p3  p3_conf  p3_dog  \n",
       "1622   False  file  0.00949   False  "
      ]
     },
     "execution_count": 199,
     "metadata": {},
     "output_type": "execute_result"
    }
   ],
   "source": [
    "image_pred_clean.sample(1)"
   ]
  },
  {
   "cell_type": "code",
   "execution_count": 200,
   "metadata": {},
   "outputs": [],
   "source": [
    "image_pred_clean['pred_breed'] = [df['p1'] if df['p1_dog'] == True and df['p1_conf'] > 0.2 \n",
    "                     else df['p2'] if df['p2_dog'] == True and df['p2_conf'] > 0.2\n",
    "                     else df['p3'] if df['p3_dog'] == True and df['p3_conf'] > 0.2\n",
    "                     else np.nan for index, df in image_pred_clean.iterrows()]"
   ]
  },
  {
   "cell_type": "code",
   "execution_count": 201,
   "metadata": {},
   "outputs": [],
   "source": [
    "## Drop 'p1', 'p1_dog', 'p1_conf','p2', 'p2_dog', 'p2_conf','p3', 'p3_dog', 'p3_conf' columns\n",
    "image_pred_clean.drop(['p1', 'p1_dog', 'p1_conf','p2', 'p2_dog', 'p2_conf','p3', 'p3_dog', 'p3_conf'], axis = 1, inplace=True)"
   ]
  },
  {
   "cell_type": "markdown",
   "metadata": {},
   "source": [
    "**TEST**"
   ]
  },
  {
   "cell_type": "code",
   "execution_count": 202,
   "metadata": {},
   "outputs": [
    {
     "data": {
      "text/html": [
       "<div>\n",
       "<style scoped>\n",
       "    .dataframe tbody tr th:only-of-type {\n",
       "        vertical-align: middle;\n",
       "    }\n",
       "\n",
       "    .dataframe tbody tr th {\n",
       "        vertical-align: top;\n",
       "    }\n",
       "\n",
       "    .dataframe thead th {\n",
       "        text-align: right;\n",
       "    }\n",
       "</style>\n",
       "<table border=\"1\" class=\"dataframe\">\n",
       "  <thead>\n",
       "    <tr style=\"text-align: right;\">\n",
       "      <th></th>\n",
       "      <th>tweet_id</th>\n",
       "      <th>jpg_url</th>\n",
       "      <th>img_num</th>\n",
       "      <th>pred_breed</th>\n",
       "    </tr>\n",
       "  </thead>\n",
       "  <tbody>\n",
       "    <tr>\n",
       "      <th>0</th>\n",
       "      <td>666020888022790149</td>\n",
       "      <td>https://pbs.twimg.com/media/CT4udn0WwAA0aMy.jpg</td>\n",
       "      <td>1</td>\n",
       "      <td>Welsh_springer_spaniel</td>\n",
       "    </tr>\n",
       "    <tr>\n",
       "      <th>1</th>\n",
       "      <td>666029285002620928</td>\n",
       "      <td>https://pbs.twimg.com/media/CT42GRgUYAA5iDo.jpg</td>\n",
       "      <td>1</td>\n",
       "      <td>redbone</td>\n",
       "    </tr>\n",
       "    <tr>\n",
       "      <th>2</th>\n",
       "      <td>666033412701032449</td>\n",
       "      <td>https://pbs.twimg.com/media/CT4521TWwAEvMyu.jpg</td>\n",
       "      <td>1</td>\n",
       "      <td>German_shepherd</td>\n",
       "    </tr>\n",
       "  </tbody>\n",
       "</table>\n",
       "</div>"
      ],
      "text/plain": [
       "             tweet_id                                          jpg_url  \\\n",
       "0  666020888022790149  https://pbs.twimg.com/media/CT4udn0WwAA0aMy.jpg   \n",
       "1  666029285002620928  https://pbs.twimg.com/media/CT42GRgUYAA5iDo.jpg   \n",
       "2  666033412701032449  https://pbs.twimg.com/media/CT4521TWwAEvMyu.jpg   \n",
       "\n",
       "   img_num              pred_breed  \n",
       "0        1  Welsh_springer_spaniel  \n",
       "1        1                 redbone  \n",
       "2        1         German_shepherd  "
      ]
     },
     "execution_count": 202,
     "metadata": {},
     "output_type": "execute_result"
    }
   ],
   "source": [
    "image_pred_clean.head(3)"
   ]
  },
  {
   "cell_type": "markdown",
   "metadata": {},
   "source": [
    "**DEFINE**\n",
    "\n",
    "\n",
    "**2. Create one column for the various dog types: doggo, floofer, pupper, puppo, 'doggo, puppo', 'doggo, pupper', 'doggo, floofer'**\n",
    "\n",
    "**CODE**"
   ]
  },
  {
   "cell_type": "code",
   "execution_count": 203,
   "metadata": {},
   "outputs": [
    {
     "data": {
      "text/plain": [
       "Index(['tweet_id', 'in_reply_to_status_id', 'in_reply_to_user_id', 'timestamp',\n",
       "       'source', 'text', 'retweeted_status_id', 'retweeted_status_user_id',\n",
       "       'retweeted_status_timestamp', 'expanded_urls', 'rating_numerator',\n",
       "       'rating_denominator', 'name', 'doggo', 'floofer', 'pupper', 'puppo'],\n",
       "      dtype='object')"
      ]
     },
     "execution_count": 203,
     "metadata": {},
     "output_type": "execute_result"
    }
   ],
   "source": [
    "archive_clean.columns"
   ]
  },
  {
   "cell_type": "code",
   "execution_count": 204,
   "metadata": {},
   "outputs": [],
   "source": [
    "archive_clean.doggo.replace(np.NaN, '', inplace=True)\n",
    "archive_clean.floofer.replace(np.NaN, '', inplace=True)\n",
    "archive_clean.pupper.replace(np.NaN, '', inplace=True)\n",
    "archive_clean.puppo.replace(np.NaN, '', inplace=True)\n",
    "archive_clean.doggo.replace('None', '', inplace=True)\n",
    "archive_clean.floofer.replace('None', '', inplace=True)\n",
    "archive_clean.pupper.replace('None', '', inplace=True)\n",
    "archive_clean.puppo.replace('None', '', inplace=True)"
   ]
  },
  {
   "cell_type": "code",
   "execution_count": 205,
   "metadata": {},
   "outputs": [],
   "source": [
    "archive_clean['stage'] = archive_clean.doggo + archive_clean.floofer + archive_clean.pupper + archive_clean.puppo\n",
    "archive_clean.loc[archive_clean.stage == 'doggopupper', 'stage'] = 'doggo, pupper'\n",
    "archive_clean.loc[archive_clean.stage == 'doggopuppo', 'stage'] = 'doggo, puppo'\n",
    "archive_clean.loc[archive_clean.stage == 'doggofloofer', 'stage'] = 'doggo, floofer'"
   ]
  },
  {
   "cell_type": "code",
   "execution_count": 206,
   "metadata": {},
   "outputs": [],
   "source": [
    "# Convert the stage in archive_clean into categorical dtype\n",
    "archive_clean['stage'] = archive_clean['stage'].astype('category')"
   ]
  },
  {
   "cell_type": "code",
   "execution_count": 207,
   "metadata": {},
   "outputs": [],
   "source": [
    "# drop 'doggo', 'floofer', 'pupper', 'puppo' columns\n",
    "archive_clean.drop(['doggo', 'floofer', 'pupper', 'puppo'], axis=1, inplace=True)\n",
    "archive_clean.stage.replace('', np.nan, inplace=True)"
   ]
  },
  {
   "cell_type": "markdown",
   "metadata": {},
   "source": [
    "**TEST**"
   ]
  },
  {
   "cell_type": "code",
   "execution_count": 208,
   "metadata": {},
   "outputs": [
    {
     "data": {
      "text/plain": [
       "pupper            245\n",
       "doggo              83\n",
       "puppo              29\n",
       "doggo, pupper      12\n",
       "floofer             9\n",
       "doggo, puppo        1\n",
       "doggo, floofer      1\n",
       "                    0\n",
       "Name: stage, dtype: int64"
      ]
     },
     "execution_count": 208,
     "metadata": {},
     "output_type": "execute_result"
    }
   ],
   "source": [
    "archive_clean.stage.value_counts()"
   ]
  },
  {
   "cell_type": "markdown",
   "metadata": {},
   "source": [
    "**DEFINE**\n",
    "\n",
    "\n",
    "**3. Convert the tweet_id in tweet_counts_clean into int64 type for merging**\n",
    "\n",
    "**CODE**"
   ]
  },
  {
   "cell_type": "code",
   "execution_count": 209,
   "metadata": {},
   "outputs": [],
   "source": [
    "tweet_counts_clean['tweet_id'] = tweet_counts_clean['tweet_id'].astype('int64')"
   ]
  },
  {
   "cell_type": "markdown",
   "metadata": {},
   "source": [
    "**TEST**"
   ]
  },
  {
   "cell_type": "code",
   "execution_count": 210,
   "metadata": {},
   "outputs": [
    {
     "name": "stdout",
     "output_type": "stream",
     "text": [
      "<class 'pandas.core.frame.DataFrame'>\n",
      "RangeIndex: 2331 entries, 0 to 2330\n",
      "Data columns (total 3 columns):\n",
      "tweet_id          2331 non-null int64\n",
      "favorite_count    2331 non-null int64\n",
      "retweet_count     2331 non-null int64\n",
      "dtypes: int64(3)\n",
      "memory usage: 54.7 KB\n"
     ]
    }
   ],
   "source": [
    "tweet_counts_clean.info()"
   ]
  },
  {
   "cell_type": "markdown",
   "metadata": {},
   "source": [
    "**DEFINE**\n",
    "\n",
    "\n",
    "**4. Merge the copied archive_clean, image_pred_clean, and tweet_counts_clean dataframes**\n",
    "\n",
    "**CODE**"
   ]
  },
  {
   "cell_type": "code",
   "execution_count": 211,
   "metadata": {},
   "outputs": [],
   "source": [
    "from functools import reduce\n",
    "df = [archive_clean, image_pred_clean, tweet_counts_clean]\n",
    "master_df = reduce(lambda left, right:  pd.merge(left, right, on = 'tweet_id'), df)"
   ]
  },
  {
   "cell_type": "markdown",
   "metadata": {},
   "source": [
    "**TEST**"
   ]
  },
  {
   "cell_type": "code",
   "execution_count": 212,
   "metadata": {},
   "outputs": [
    {
     "data": {
      "text/html": [
       "<div>\n",
       "<style scoped>\n",
       "    .dataframe tbody tr th:only-of-type {\n",
       "        vertical-align: middle;\n",
       "    }\n",
       "\n",
       "    .dataframe tbody tr th {\n",
       "        vertical-align: top;\n",
       "    }\n",
       "\n",
       "    .dataframe thead th {\n",
       "        text-align: right;\n",
       "    }\n",
       "</style>\n",
       "<table border=\"1\" class=\"dataframe\">\n",
       "  <thead>\n",
       "    <tr style=\"text-align: right;\">\n",
       "      <th></th>\n",
       "      <th>tweet_id</th>\n",
       "      <th>in_reply_to_status_id</th>\n",
       "      <th>in_reply_to_user_id</th>\n",
       "      <th>timestamp</th>\n",
       "      <th>source</th>\n",
       "      <th>text</th>\n",
       "      <th>retweeted_status_id</th>\n",
       "      <th>retweeted_status_user_id</th>\n",
       "      <th>retweeted_status_timestamp</th>\n",
       "      <th>expanded_urls</th>\n",
       "      <th>rating_numerator</th>\n",
       "      <th>rating_denominator</th>\n",
       "      <th>name</th>\n",
       "      <th>stage</th>\n",
       "      <th>jpg_url</th>\n",
       "      <th>img_num</th>\n",
       "      <th>pred_breed</th>\n",
       "      <th>favorite_count</th>\n",
       "      <th>retweet_count</th>\n",
       "    </tr>\n",
       "  </thead>\n",
       "  <tbody>\n",
       "    <tr>\n",
       "      <th>1821</th>\n",
       "      <td>670433248821026816</td>\n",
       "      <td>NaN</td>\n",
       "      <td>NaN</td>\n",
       "      <td>2015-11-28 02:45:17 +0000</td>\n",
       "      <td>&lt;a href=\"http://twitter.com/download/iphone\" r...</td>\n",
       "      <td>This is Sam. He's trying to escape the inordin...</td>\n",
       "      <td>NaN</td>\n",
       "      <td>NaN</td>\n",
       "      <td>NaN</td>\n",
       "      <td>https://twitter.com/dog_rates/status/670433248...</td>\n",
       "      <td>10</td>\n",
       "      <td>10</td>\n",
       "      <td>Sam</td>\n",
       "      <td>NaN</td>\n",
       "      <td>https://pbs.twimg.com/media/CU3be0SWEAEqb7I.jpg</td>\n",
       "      <td>1</td>\n",
       "      <td>NaN</td>\n",
       "      <td>319</td>\n",
       "      <td>106</td>\n",
       "    </tr>\n",
       "  </tbody>\n",
       "</table>\n",
       "</div>"
      ],
      "text/plain": [
       "                tweet_id  in_reply_to_status_id  in_reply_to_user_id  \\\n",
       "1821  670433248821026816                    NaN                  NaN   \n",
       "\n",
       "                      timestamp  \\\n",
       "1821  2015-11-28 02:45:17 +0000   \n",
       "\n",
       "                                                 source  \\\n",
       "1821  <a href=\"http://twitter.com/download/iphone\" r...   \n",
       "\n",
       "                                                   text  retweeted_status_id  \\\n",
       "1821  This is Sam. He's trying to escape the inordin...                  NaN   \n",
       "\n",
       "      retweeted_status_user_id retweeted_status_timestamp  \\\n",
       "1821                       NaN                        NaN   \n",
       "\n",
       "                                          expanded_urls  rating_numerator  \\\n",
       "1821  https://twitter.com/dog_rates/status/670433248...                10   \n",
       "\n",
       "      rating_denominator name stage  \\\n",
       "1821                  10  Sam   NaN   \n",
       "\n",
       "                                              jpg_url  img_num pred_breed  \\\n",
       "1821  https://pbs.twimg.com/media/CU3be0SWEAEqb7I.jpg        1        NaN   \n",
       "\n",
       "      favorite_count  retweet_count  \n",
       "1821             319            106  "
      ]
     },
     "execution_count": 212,
     "metadata": {},
     "output_type": "execute_result"
    }
   ],
   "source": [
    "master_df.sample(1)"
   ]
  },
  {
   "cell_type": "markdown",
   "metadata": {},
   "source": [
    "**DEFINE**\n",
    "\n",
    "\n",
    "**5. Convert the tweet_id in master_df into object type**\n",
    "\n",
    "**CODE**"
   ]
  },
  {
   "cell_type": "code",
   "execution_count": 213,
   "metadata": {},
   "outputs": [],
   "source": [
    "master_df['tweet_id'] = master_df['tweet_id'].astype('object')"
   ]
  },
  {
   "cell_type": "markdown",
   "metadata": {},
   "source": [
    "**TEST**"
   ]
  },
  {
   "cell_type": "code",
   "execution_count": 214,
   "metadata": {},
   "outputs": [
    {
     "name": "stdout",
     "output_type": "stream",
     "text": [
      "<class 'pandas.core.frame.DataFrame'>\n",
      "Int64Index: 2059 entries, 0 to 2058\n",
      "Data columns (total 19 columns):\n",
      "tweet_id                      2059 non-null object\n",
      "in_reply_to_status_id         23 non-null float64\n",
      "in_reply_to_user_id           23 non-null float64\n",
      "timestamp                     2059 non-null object\n",
      "source                        2059 non-null object\n",
      "text                          2059 non-null object\n",
      "retweeted_status_id           72 non-null float64\n",
      "retweeted_status_user_id      72 non-null float64\n",
      "retweeted_status_timestamp    72 non-null object\n",
      "expanded_urls                 2059 non-null object\n",
      "rating_numerator              2059 non-null int64\n",
      "rating_denominator            2059 non-null int64\n",
      "name                          2059 non-null object\n",
      "stage                         318 non-null category\n",
      "jpg_url                       2059 non-null object\n",
      "img_num                       2059 non-null int64\n",
      "pred_breed                    1460 non-null object\n",
      "favorite_count                2059 non-null int64\n",
      "retweet_count                 2059 non-null int64\n",
      "dtypes: category(1), float64(4), int64(5), object(9)\n",
      "memory usage: 308.0+ KB\n"
     ]
    }
   ],
   "source": [
    "master_df.info()"
   ]
  },
  {
   "cell_type": "markdown",
   "metadata": {},
   "source": [
    "**DEFINE**\n",
    "\n",
    "\n",
    "**6. Replace 'a', 'an', 'the', 'None' and other lower case words with NaN in name column**\n",
    "\n",
    "\n",
    "**CODE**"
   ]
  },
  {
   "cell_type": "code",
   "execution_count": 215,
   "metadata": {},
   "outputs": [],
   "source": [
    "words = master_df[master_df.name.str.islower()].name.unique()"
   ]
  },
  {
   "cell_type": "code",
   "execution_count": 216,
   "metadata": {},
   "outputs": [],
   "source": [
    "master_df['name'] = master_df['name'].replace(words, np.nan)\n",
    "master_df['name'] = master_df['name'].replace('None', np.nan)\n"
   ]
  },
  {
   "cell_type": "code",
   "execution_count": 217,
   "metadata": {},
   "outputs": [
    {
     "data": {
      "text/plain": [
       "0          Phineas\n",
       "1            Tilly\n",
       "2           Archie\n",
       "3            Darla\n",
       "4         Franklin\n",
       "6              Jax\n",
       "8             Zoey\n",
       "9           Cassie\n",
       "10            Koda\n",
       "11           Bruno\n",
       "13             Ted\n",
       "14          Stuart\n",
       "15          Oliver\n",
       "16             Jim\n",
       "17            Zeke\n",
       "18         Ralphus\n",
       "19          Gerald\n",
       "20         Jeffrey\n",
       "22          Canela\n",
       "25            Maya\n",
       "26          Mingus\n",
       "27           Derek\n",
       "28          Roscoe\n",
       "29         Waffles\n",
       "30           Jimbo\n",
       "31          Maisey\n",
       "32           Lilly\n",
       "34            Earl\n",
       "35            Lola\n",
       "36           Kevin\n",
       "           ...    \n",
       "1972          Dook\n",
       "1974          Hall\n",
       "1975      Philippe\n",
       "1978         Reese\n",
       "1979       Cupcake\n",
       "1983         Biden\n",
       "1984          Fwed\n",
       "1986     Genevieve\n",
       "1987        Joshwa\n",
       "1990       Timison\n",
       "1993      Clarence\n",
       "1994       Kenneth\n",
       "1995       Churlie\n",
       "1996       Bradlay\n",
       "1997         Pipsy\n",
       "1999          Gabe\n",
       "2000         Clybe\n",
       "2001          Dave\n",
       "2003          Keet\n",
       "2005        Klevin\n",
       "2006         Carll\n",
       "2011          Jeph\n",
       "2012       Jockson\n",
       "2015         Josep\n",
       "2016         Lugan\n",
       "2018    Christoper\n",
       "2020       Jimothy\n",
       "2021      Kreggory\n",
       "2022         Scout\n",
       "2028        Walter\n",
       "Name: name, Length: 1386, dtype: object"
      ]
     },
     "execution_count": 217,
     "metadata": {},
     "output_type": "execute_result"
    }
   ],
   "source": [
    "master_df['name'].dropna()"
   ]
  },
  {
   "cell_type": "markdown",
   "metadata": {},
   "source": [
    "**TEST**"
   ]
  },
  {
   "cell_type": "code",
   "execution_count": 220,
   "metadata": {},
   "outputs": [
    {
     "data": {
      "text/plain": [
       "Charlie      10\n",
       "Tucker       10\n",
       "Cooper       10\n",
       "Penny        10\n",
       "Oliver       10\n",
       "Lucy          9\n",
       "Sadie         8\n",
       "Winston       8\n",
       "Bo            8\n",
       "Lola          8\n",
       "Toby          7\n",
       "Daisy         7\n",
       "Koda          6\n",
       "Dave          6\n",
       "Milo          6\n",
       "Bella         6\n",
       "Bailey        6\n",
       "Rusty         6\n",
       "Jax           6\n",
       "Stanley       6\n",
       "Scout         6\n",
       "Alfie         5\n",
       "Leo           5\n",
       "Oscar         5\n",
       "Louis         5\n",
       "Larry         5\n",
       "Chester       5\n",
       "Buddy         5\n",
       "Gary          4\n",
       "Finn          4\n",
       "             ..\n",
       "Batdog        1\n",
       "Rey           1\n",
       "Bookstore     1\n",
       "Josep         1\n",
       "Willem        1\n",
       "Maisey        1\n",
       "Huck          1\n",
       "Marlee        1\n",
       "Jonah         1\n",
       "Ozzie         1\n",
       "Howie         1\n",
       "Bobble        1\n",
       "Adele         1\n",
       "Roscoe        1\n",
       "Lambeau       1\n",
       "Margo         1\n",
       "Luna          1\n",
       "Maks          1\n",
       "Karma         1\n",
       "Tango         1\n",
       "Dotsy         1\n",
       "Darby         1\n",
       "Deacon        1\n",
       "Edmund        1\n",
       "Logan         1\n",
       "Leonidas      1\n",
       "Griswold      1\n",
       "Brandy        1\n",
       "Livvie        1\n",
       "Diogi         1\n",
       "Name: name, Length: 911, dtype: int64"
      ]
     },
     "execution_count": 220,
     "metadata": {},
     "output_type": "execute_result"
    }
   ],
   "source": [
    "master_df.name.value_counts()"
   ]
  },
  {
   "cell_type": "markdown",
   "metadata": {},
   "source": [
    "**DEFINE**\n",
    "\n",
    "\n",
    "**7. Remove Inconsistency in pred_bread**\n",
    "\n",
    "**CODE**"
   ]
  },
  {
   "cell_type": "code",
   "execution_count": 221,
   "metadata": {},
   "outputs": [],
   "source": [
    "master_df['pred_breed'] = master_df['pred_breed'].astype('str')\n",
    "master_df['pred_breed'] = master_df['pred_breed'].str.lower().str.replace('_', ' ').str.replace('-', ' ')\n",
    "master_df['pred_breed'] = master_df['pred_breed'].replace('nan', np.nan)"
   ]
  },
  {
   "cell_type": "markdown",
   "metadata": {},
   "source": [
    "**TEST**"
   ]
  },
  {
   "cell_type": "code",
   "execution_count": 222,
   "metadata": {},
   "outputs": [
    {
     "data": {
      "text/plain": [
       "golden retriever      152\n",
       "labrador retriever     96\n",
       "pembroke               89\n",
       "chihuahua              77\n",
       "pug                    56\n",
       "Name: pred_breed, dtype: int64"
      ]
     },
     "execution_count": 222,
     "metadata": {},
     "output_type": "execute_result"
    }
   ],
   "source": [
    "master_df['pred_breed'].value_counts()[:5]"
   ]
  },
  {
   "cell_type": "markdown",
   "metadata": {},
   "source": [
    "**DEFINE**\n",
    "\n",
    "\n",
    "**8. Delete Retweets**\n",
    "\n",
    "**CODE**"
   ]
  },
  {
   "cell_type": "code",
   "execution_count": 223,
   "metadata": {},
   "outputs": [],
   "source": [
    "# Delete the rows which contains retweets\n",
    "master_df = master_df.drop(master_df[(master_df['in_reply_to_status_id'].isnull() == False) | (master_df['retweeted_status_id'].isnull() == False)].index)"
   ]
  },
  {
   "cell_type": "markdown",
   "metadata": {},
   "source": [
    "**TEST**"
   ]
  },
  {
   "cell_type": "code",
   "execution_count": 224,
   "metadata": {},
   "outputs": [
    {
     "data": {
      "text/plain": [
       "(1964, 19)"
      ]
     },
     "execution_count": 224,
     "metadata": {},
     "output_type": "execute_result"
    }
   ],
   "source": [
    "master_df.shape"
   ]
  },
  {
   "cell_type": "markdown",
   "metadata": {},
   "source": [
    "**DEFINE**\n",
    "\n",
    "\n",
    "**9. Remove columns no longer needed: in_reply_to_status_id, in_reply_to_user_id, retweeted_status_id, retweeted_status_user_id, and retweeted_status_timestamp**\n",
    "\n",
    "**CODE**"
   ]
  },
  {
   "cell_type": "code",
   "execution_count": 225,
   "metadata": {},
   "outputs": [],
   "source": [
    "# drop the reply status and retweet status columns\n",
    "master_df.drop(['in_reply_to_status_id', 'in_reply_to_user_id','retweeted_status_id', 'retweeted_status_user_id',\n",
    "       'retweeted_status_timestamp'], axis=1, inplace=True)"
   ]
  },
  {
   "cell_type": "markdown",
   "metadata": {},
   "source": [
    "**TEST**"
   ]
  },
  {
   "cell_type": "code",
   "execution_count": 226,
   "metadata": {},
   "outputs": [
    {
     "data": {
      "text/plain": [
       "Index(['tweet_id', 'timestamp', 'source', 'text', 'expanded_urls',\n",
       "       'rating_numerator', 'rating_denominator', 'name', 'stage', 'jpg_url',\n",
       "       'img_num', 'pred_breed', 'favorite_count', 'retweet_count'],\n",
       "      dtype='object')"
      ]
     },
     "execution_count": 226,
     "metadata": {},
     "output_type": "execute_result"
    }
   ],
   "source": [
    "master_df.columns"
   ]
  },
  {
   "cell_type": "code",
   "execution_count": 227,
   "metadata": {},
   "outputs": [],
   "source": [
    "assert master_df['expanded_urls'].isnull().any() == False"
   ]
  },
  {
   "cell_type": "markdown",
   "metadata": {},
   "source": [
    "No missing values in expanded_urls now after removing 'in_reply_to_status_id', 'in_reply_to_user_id','retweeted_status_id', 'retweeted_status_user_id',\n",
    "       'retweeted_status_timestamp' columns"
   ]
  },
  {
   "cell_type": "code",
   "execution_count": 228,
   "metadata": {},
   "outputs": [
    {
     "name": "stdout",
     "output_type": "stream",
     "text": [
      "<class 'pandas.core.frame.DataFrame'>\n",
      "Int64Index: 1964 entries, 0 to 2058\n",
      "Data columns (total 14 columns):\n",
      "tweet_id              1964 non-null object\n",
      "timestamp             1964 non-null object\n",
      "source                1964 non-null object\n",
      "text                  1964 non-null object\n",
      "expanded_urls         1964 non-null object\n",
      "rating_numerator      1964 non-null int64\n",
      "rating_denominator    1964 non-null int64\n",
      "name                  1342 non-null object\n",
      "stage                 302 non-null category\n",
      "jpg_url               1964 non-null object\n",
      "img_num               1964 non-null int64\n",
      "pred_breed            1395 non-null object\n",
      "favorite_count        1964 non-null int64\n",
      "retweet_count         1964 non-null int64\n",
      "dtypes: category(1), int64(5), object(8)\n",
      "memory usage: 217.1+ KB\n"
     ]
    }
   ],
   "source": [
    "master_df.info()"
   ]
  },
  {
   "cell_type": "markdown",
   "metadata": {},
   "source": [
    "**DEFINE**\n",
    "\n",
    "\n",
    "**10. Change the timestamp to correct datetime format**\n",
    "\n",
    "**CODE**"
   ]
  },
  {
   "cell_type": "code",
   "execution_count": 229,
   "metadata": {},
   "outputs": [
    {
     "data": {
      "text/plain": [
       "1593    2015-12-10 17:37:00 +0000\n",
       "Name: timestamp, dtype: object"
      ]
     },
     "execution_count": 229,
     "metadata": {},
     "output_type": "execute_result"
    }
   ],
   "source": [
    "master_df.sample(1)['timestamp']"
   ]
  },
  {
   "cell_type": "code",
   "execution_count": 230,
   "metadata": {},
   "outputs": [],
   "source": [
    "master_df['timestamp'] = pd.to_datetime(master_df['timestamp'], format='%Y-%m-%d %H:%M:%S')"
   ]
  },
  {
   "cell_type": "markdown",
   "metadata": {},
   "source": [
    "**TEST**"
   ]
  },
  {
   "cell_type": "code",
   "execution_count": 231,
   "metadata": {},
   "outputs": [
    {
     "data": {
      "text/plain": [
       "1878   2015-11-25 01:30:16\n",
       "1280   2016-01-20 20:21:00\n",
       "1107   2016-03-02 16:23:36\n",
       "Name: timestamp, dtype: datetime64[ns]"
      ]
     },
     "execution_count": 231,
     "metadata": {},
     "output_type": "execute_result"
    }
   ],
   "source": [
    "master_df.sample(3)['timestamp']"
   ]
  },
  {
   "cell_type": "code",
   "execution_count": 232,
   "metadata": {},
   "outputs": [
    {
     "data": {
      "text/plain": [
       "count                    1964\n",
       "unique                   1964\n",
       "top       2016-08-04 22:52:29\n",
       "freq                        1\n",
       "first     2015-11-15 22:32:08\n",
       "last      2017-08-01 16:23:56\n",
       "Name: timestamp, dtype: object"
      ]
     },
     "execution_count": 232,
     "metadata": {},
     "output_type": "execute_result"
    }
   ],
   "source": [
    "master_df['timestamp'].describe()"
   ]
  },
  {
   "cell_type": "markdown",
   "metadata": {},
   "source": [
    "**DEFINE**\n",
    "\n",
    "\n",
    "**11. Removing HTML tags from source column**\n",
    "\n",
    "\n",
    "**CODE**"
   ]
  },
  {
   "cell_type": "code",
   "execution_count": 233,
   "metadata": {},
   "outputs": [],
   "source": [
    "href = master_df[\"source\"].str.split('\"', expand = True)\n",
    "master_df[\"source\"] = href[1]"
   ]
  },
  {
   "cell_type": "markdown",
   "metadata": {},
   "source": [
    "**TEST**"
   ]
  },
  {
   "cell_type": "code",
   "execution_count": 234,
   "metadata": {},
   "outputs": [
    {
     "data": {
      "text/html": [
       "<div>\n",
       "<style scoped>\n",
       "    .dataframe tbody tr th:only-of-type {\n",
       "        vertical-align: middle;\n",
       "    }\n",
       "\n",
       "    .dataframe tbody tr th {\n",
       "        vertical-align: top;\n",
       "    }\n",
       "\n",
       "    .dataframe thead th {\n",
       "        text-align: right;\n",
       "    }\n",
       "</style>\n",
       "<table border=\"1\" class=\"dataframe\">\n",
       "  <thead>\n",
       "    <tr style=\"text-align: right;\">\n",
       "      <th></th>\n",
       "      <th>tweet_id</th>\n",
       "      <th>timestamp</th>\n",
       "      <th>source</th>\n",
       "      <th>text</th>\n",
       "      <th>expanded_urls</th>\n",
       "      <th>rating_numerator</th>\n",
       "      <th>rating_denominator</th>\n",
       "      <th>name</th>\n",
       "      <th>stage</th>\n",
       "      <th>jpg_url</th>\n",
       "      <th>img_num</th>\n",
       "      <th>pred_breed</th>\n",
       "      <th>favorite_count</th>\n",
       "      <th>retweet_count</th>\n",
       "    </tr>\n",
       "  </thead>\n",
       "  <tbody>\n",
       "    <tr>\n",
       "      <th>0</th>\n",
       "      <td>892420643555336193</td>\n",
       "      <td>2017-08-01 16:23:56</td>\n",
       "      <td>http://twitter.com/download/iphone</td>\n",
       "      <td>This is Phineas. He's a mystical boy. Only eve...</td>\n",
       "      <td>https://twitter.com/dog_rates/status/892420643...</td>\n",
       "      <td>13</td>\n",
       "      <td>10</td>\n",
       "      <td>Phineas</td>\n",
       "      <td>NaN</td>\n",
       "      <td>https://pbs.twimg.com/media/DGKD1-bXoAAIAUK.jpg</td>\n",
       "      <td>1</td>\n",
       "      <td>NaN</td>\n",
       "      <td>36324</td>\n",
       "      <td>7728</td>\n",
       "    </tr>\n",
       "    <tr>\n",
       "      <th>1</th>\n",
       "      <td>892177421306343426</td>\n",
       "      <td>2017-08-01 00:17:27</td>\n",
       "      <td>http://twitter.com/download/iphone</td>\n",
       "      <td>This is Tilly. She's just checking pup on you....</td>\n",
       "      <td>https://twitter.com/dog_rates/status/892177421...</td>\n",
       "      <td>13</td>\n",
       "      <td>10</td>\n",
       "      <td>Tilly</td>\n",
       "      <td>NaN</td>\n",
       "      <td>https://pbs.twimg.com/media/DGGmoV4XsAAUL6n.jpg</td>\n",
       "      <td>1</td>\n",
       "      <td>chihuahua</td>\n",
       "      <td>31306</td>\n",
       "      <td>5721</td>\n",
       "    </tr>\n",
       "    <tr>\n",
       "      <th>2</th>\n",
       "      <td>891815181378084864</td>\n",
       "      <td>2017-07-31 00:18:03</td>\n",
       "      <td>http://twitter.com/download/iphone</td>\n",
       "      <td>This is Archie. He is a rare Norwegian Pouncin...</td>\n",
       "      <td>https://twitter.com/dog_rates/status/891815181...</td>\n",
       "      <td>12</td>\n",
       "      <td>10</td>\n",
       "      <td>Archie</td>\n",
       "      <td>NaN</td>\n",
       "      <td>https://pbs.twimg.com/media/DGBdLU1WsAANxJ9.jpg</td>\n",
       "      <td>1</td>\n",
       "      <td>chihuahua</td>\n",
       "      <td>23585</td>\n",
       "      <td>3786</td>\n",
       "    </tr>\n",
       "    <tr>\n",
       "      <th>3</th>\n",
       "      <td>891689557279858688</td>\n",
       "      <td>2017-07-30 15:58:51</td>\n",
       "      <td>http://twitter.com/download/iphone</td>\n",
       "      <td>This is Darla. She commenced a snooze mid meal...</td>\n",
       "      <td>https://twitter.com/dog_rates/status/891689557...</td>\n",
       "      <td>13</td>\n",
       "      <td>10</td>\n",
       "      <td>Darla</td>\n",
       "      <td>NaN</td>\n",
       "      <td>https://pbs.twimg.com/media/DF_q7IAWsAEuuN8.jpg</td>\n",
       "      <td>1</td>\n",
       "      <td>NaN</td>\n",
       "      <td>39633</td>\n",
       "      <td>7892</td>\n",
       "    </tr>\n",
       "    <tr>\n",
       "      <th>4</th>\n",
       "      <td>891327558926688256</td>\n",
       "      <td>2017-07-29 16:00:24</td>\n",
       "      <td>http://twitter.com/download/iphone</td>\n",
       "      <td>This is Franklin. He would like you to stop ca...</td>\n",
       "      <td>https://twitter.com/dog_rates/status/891327558...</td>\n",
       "      <td>12</td>\n",
       "      <td>10</td>\n",
       "      <td>Franklin</td>\n",
       "      <td>NaN</td>\n",
       "      <td>https://pbs.twimg.com/media/DF6hr6BUMAAzZgT.jpg</td>\n",
       "      <td>2</td>\n",
       "      <td>basset</td>\n",
       "      <td>37834</td>\n",
       "      <td>8512</td>\n",
       "    </tr>\n",
       "  </tbody>\n",
       "</table>\n",
       "</div>"
      ],
      "text/plain": [
       "             tweet_id           timestamp                              source  \\\n",
       "0  892420643555336193 2017-08-01 16:23:56  http://twitter.com/download/iphone   \n",
       "1  892177421306343426 2017-08-01 00:17:27  http://twitter.com/download/iphone   \n",
       "2  891815181378084864 2017-07-31 00:18:03  http://twitter.com/download/iphone   \n",
       "3  891689557279858688 2017-07-30 15:58:51  http://twitter.com/download/iphone   \n",
       "4  891327558926688256 2017-07-29 16:00:24  http://twitter.com/download/iphone   \n",
       "\n",
       "                                                text  \\\n",
       "0  This is Phineas. He's a mystical boy. Only eve...   \n",
       "1  This is Tilly. She's just checking pup on you....   \n",
       "2  This is Archie. He is a rare Norwegian Pouncin...   \n",
       "3  This is Darla. She commenced a snooze mid meal...   \n",
       "4  This is Franklin. He would like you to stop ca...   \n",
       "\n",
       "                                       expanded_urls  rating_numerator  \\\n",
       "0  https://twitter.com/dog_rates/status/892420643...                13   \n",
       "1  https://twitter.com/dog_rates/status/892177421...                13   \n",
       "2  https://twitter.com/dog_rates/status/891815181...                12   \n",
       "3  https://twitter.com/dog_rates/status/891689557...                13   \n",
       "4  https://twitter.com/dog_rates/status/891327558...                12   \n",
       "\n",
       "   rating_denominator      name stage  \\\n",
       "0                  10   Phineas   NaN   \n",
       "1                  10     Tilly   NaN   \n",
       "2                  10    Archie   NaN   \n",
       "3                  10     Darla   NaN   \n",
       "4                  10  Franklin   NaN   \n",
       "\n",
       "                                           jpg_url  img_num pred_breed  \\\n",
       "0  https://pbs.twimg.com/media/DGKD1-bXoAAIAUK.jpg        1        NaN   \n",
       "1  https://pbs.twimg.com/media/DGGmoV4XsAAUL6n.jpg        1  chihuahua   \n",
       "2  https://pbs.twimg.com/media/DGBdLU1WsAANxJ9.jpg        1  chihuahua   \n",
       "3  https://pbs.twimg.com/media/DF_q7IAWsAEuuN8.jpg        1        NaN   \n",
       "4  https://pbs.twimg.com/media/DF6hr6BUMAAzZgT.jpg        2     basset   \n",
       "\n",
       "   favorite_count  retweet_count  \n",
       "0           36324           7728  \n",
       "1           31306           5721  \n",
       "2           23585           3786  \n",
       "3           39633           7892  \n",
       "4           37834           8512  "
      ]
     },
     "execution_count": 234,
     "metadata": {},
     "output_type": "execute_result"
    }
   ],
   "source": [
    "master_df.head()"
   ]
  },
  {
   "cell_type": "code",
   "execution_count": 235,
   "metadata": {},
   "outputs": [
    {
     "name": "stdout",
     "output_type": "stream",
     "text": [
      "<class 'pandas.core.frame.DataFrame'>\n",
      "Int64Index: 1964 entries, 0 to 2058\n",
      "Data columns (total 14 columns):\n",
      "tweet_id              1964 non-null object\n",
      "timestamp             1964 non-null datetime64[ns]\n",
      "source                1964 non-null object\n",
      "text                  1964 non-null object\n",
      "expanded_urls         1964 non-null object\n",
      "rating_numerator      1964 non-null int64\n",
      "rating_denominator    1964 non-null int64\n",
      "name                  1342 non-null object\n",
      "stage                 302 non-null category\n",
      "jpg_url               1964 non-null object\n",
      "img_num               1964 non-null int64\n",
      "pred_breed            1395 non-null object\n",
      "favorite_count        1964 non-null int64\n",
      "retweet_count         1964 non-null int64\n",
      "dtypes: category(1), datetime64[ns](1), int64(5), object(7)\n",
      "memory usage: 217.1+ KB\n"
     ]
    }
   ],
   "source": [
    "master_df.info()"
   ]
  },
  {
   "cell_type": "markdown",
   "metadata": {},
   "source": [
    "**DEFINE**\n",
    "\n",
    "\n",
    "**12. Standardize dog ratings**\n",
    "\n",
    "\n",
    "**CODE**"
   ]
  },
  {
   "cell_type": "code",
   "execution_count": 236,
   "metadata": {},
   "outputs": [],
   "source": [
    "ratings = master_df.text.str.extract('((?:\\d+\\.)?\\d+)\\/(\\d+)', expand=True)"
   ]
  },
  {
   "cell_type": "code",
   "execution_count": 237,
   "metadata": {},
   "outputs": [],
   "source": [
    "master_df.rating_numerator = ratings\n",
    "master_df['rating_numerator'] = master_df['rating_numerator'].astype('float64')"
   ]
  },
  {
   "cell_type": "code",
   "execution_count": 238,
   "metadata": {},
   "outputs": [],
   "source": [
    "# standardizing to a denominator of 10 for groups of dogs:\n",
    "\n",
    "rating_num = [int(round(num/(denom/10)))  if denom != 10 and num/denom <= 2 \n",
    "                           else num for num, denom in zip(master_df['rating_numerator'], master_df['rating_denominator'])]\n",
    "rating_denom = [10 if denom != 10 and num/denom <= 2\n",
    "                             else denom for num, denom in zip(master_df['rating_numerator'], master_df['rating_denominator'])]\n",
    "master_df['rating_numerator'] = rating_num\n",
    "master_df['rating_denominator'] = rating_denom\n",
    "\n",
    "master_df = master_df.drop(master_df[((master_df['rating_denominator'] != 10) | (master_df['rating_numerator'] > 20))].index)"
   ]
  },
  {
   "cell_type": "markdown",
   "metadata": {},
   "source": [
    "**TEST**"
   ]
  },
  {
   "cell_type": "code",
   "execution_count": 239,
   "metadata": {},
   "outputs": [
    {
     "data": {
      "text/plain": [
       "rating_numerator     -1.456834\n",
       "rating_denominator    0.000000\n",
       "dtype: float64"
      ]
     },
     "execution_count": 239,
     "metadata": {},
     "output_type": "execute_result"
    }
   ],
   "source": [
    "master_df[['rating_numerator', 'rating_denominator']].skew()"
   ]
  },
  {
   "cell_type": "code",
   "execution_count": 240,
   "metadata": {},
   "outputs": [
    {
     "data": {
      "text/plain": [
       "array([ 13.  ,  12.  ,  14.  ,  13.5 ,  11.  ,   6.  ,  10.  ,   0.  ,\n",
       "         9.75,   5.  ,  11.27,   3.  ,   7.  ,   8.  ,   9.  ,   4.  ,\n",
       "         2.  ,  11.26,   1.  ])"
      ]
     },
     "execution_count": 240,
     "metadata": {},
     "output_type": "execute_result"
    }
   ],
   "source": [
    "master_df['rating_numerator'].unique()"
   ]
  },
  {
   "cell_type": "code",
   "execution_count": 241,
   "metadata": {},
   "outputs": [
    {
     "data": {
      "text/plain": [
       "array([10])"
      ]
     },
     "execution_count": 241,
     "metadata": {},
     "output_type": "execute_result"
    }
   ],
   "source": [
    "master_df['rating_denominator'].unique()"
   ]
  },
  {
   "cell_type": "code",
   "execution_count": 242,
   "metadata": {},
   "outputs": [
    {
     "name": "stdout",
     "output_type": "stream",
     "text": [
      "<class 'pandas.core.frame.DataFrame'>\n",
      "Int64Index: 1961 entries, 0 to 2058\n",
      "Data columns (total 14 columns):\n",
      "tweet_id              1961 non-null object\n",
      "timestamp             1961 non-null datetime64[ns]\n",
      "source                1961 non-null object\n",
      "text                  1961 non-null object\n",
      "expanded_urls         1961 non-null object\n",
      "rating_numerator      1961 non-null float64\n",
      "rating_denominator    1961 non-null int64\n",
      "name                  1340 non-null object\n",
      "stage                 302 non-null category\n",
      "jpg_url               1961 non-null object\n",
      "img_num               1961 non-null int64\n",
      "pred_breed            1394 non-null object\n",
      "favorite_count        1961 non-null int64\n",
      "retweet_count         1961 non-null int64\n",
      "dtypes: category(1), datetime64[ns](1), float64(1), int64(4), object(7)\n",
      "memory usage: 216.8+ KB\n"
     ]
    }
   ],
   "source": [
    "master_df.info()"
   ]
  },
  {
   "cell_type": "markdown",
   "metadata": {},
   "source": [
    "## Storing, Analyzing, and Visualizing Data"
   ]
  },
  {
   "cell_type": "code",
   "execution_count": 243,
   "metadata": {},
   "outputs": [],
   "source": [
    "# storing master dataframe as csv\n",
    "master_df.to_csv('master_archive.csv', encoding='utf-8', index=False)"
   ]
  },
  {
   "cell_type": "code",
   "execution_count": 244,
   "metadata": {},
   "outputs": [
    {
     "name": "stdout",
     "output_type": "stream",
     "text": [
      "<class 'pandas.core.frame.DataFrame'>\n",
      "RangeIndex: 1961 entries, 0 to 1960\n",
      "Data columns (total 14 columns):\n",
      "tweet_id              1961 non-null int64\n",
      "timestamp             1961 non-null object\n",
      "source                1961 non-null object\n",
      "text                  1961 non-null object\n",
      "expanded_urls         1961 non-null object\n",
      "rating_numerator      1961 non-null float64\n",
      "rating_denominator    1961 non-null int64\n",
      "name                  1340 non-null object\n",
      "stage                 302 non-null object\n",
      "jpg_url               1961 non-null object\n",
      "img_num               1961 non-null int64\n",
      "pred_breed            1394 non-null object\n",
      "favorite_count        1961 non-null int64\n",
      "retweet_count         1961 non-null int64\n",
      "dtypes: float64(1), int64(5), object(8)\n",
      "memory usage: 214.6+ KB\n"
     ]
    }
   ],
   "source": [
    "# read master_archive.csv\n",
    "df = pd.read_csv('master_archive.csv')\n",
    "df.info()"
   ]
  },
  {
   "cell_type": "code",
   "execution_count": 245,
   "metadata": {},
   "outputs": [
    {
     "data": {
      "text/html": [
       "<div>\n",
       "<style scoped>\n",
       "    .dataframe tbody tr th:only-of-type {\n",
       "        vertical-align: middle;\n",
       "    }\n",
       "\n",
       "    .dataframe tbody tr th {\n",
       "        vertical-align: top;\n",
       "    }\n",
       "\n",
       "    .dataframe thead th {\n",
       "        text-align: right;\n",
       "    }\n",
       "</style>\n",
       "<table border=\"1\" class=\"dataframe\">\n",
       "  <thead>\n",
       "    <tr style=\"text-align: right;\">\n",
       "      <th></th>\n",
       "      <th>tweet_id</th>\n",
       "      <th>rating_numerator</th>\n",
       "      <th>rating_denominator</th>\n",
       "      <th>img_num</th>\n",
       "      <th>favorite_count</th>\n",
       "      <th>retweet_count</th>\n",
       "    </tr>\n",
       "  </thead>\n",
       "  <tbody>\n",
       "    <tr>\n",
       "      <th>count</th>\n",
       "      <td>1.961000e+03</td>\n",
       "      <td>1961.000000</td>\n",
       "      <td>1961.0</td>\n",
       "      <td>1961.000000</td>\n",
       "      <td>1961.000000</td>\n",
       "      <td>1961.000000</td>\n",
       "    </tr>\n",
       "    <tr>\n",
       "      <th>mean</th>\n",
       "      <td>7.358030e+17</td>\n",
       "      <td>10.528700</td>\n",
       "      <td>10.0</td>\n",
       "      <td>1.202448</td>\n",
       "      <td>8348.349312</td>\n",
       "      <td>2478.276390</td>\n",
       "    </tr>\n",
       "    <tr>\n",
       "      <th>std</th>\n",
       "      <td>6.745542e+16</td>\n",
       "      <td>2.179024</td>\n",
       "      <td>0.0</td>\n",
       "      <td>0.559987</td>\n",
       "      <td>12278.989301</td>\n",
       "      <td>4433.814335</td>\n",
       "    </tr>\n",
       "    <tr>\n",
       "      <th>min</th>\n",
       "      <td>6.660209e+17</td>\n",
       "      <td>0.000000</td>\n",
       "      <td>10.0</td>\n",
       "      <td>1.000000</td>\n",
       "      <td>72.000000</td>\n",
       "      <td>11.000000</td>\n",
       "    </tr>\n",
       "    <tr>\n",
       "      <th>25%</th>\n",
       "      <td>6.758457e+17</td>\n",
       "      <td>10.000000</td>\n",
       "      <td>10.0</td>\n",
       "      <td>1.000000</td>\n",
       "      <td>1785.000000</td>\n",
       "      <td>554.000000</td>\n",
       "    </tr>\n",
       "    <tr>\n",
       "      <th>50%</th>\n",
       "      <td>7.087111e+17</td>\n",
       "      <td>11.000000</td>\n",
       "      <td>10.0</td>\n",
       "      <td>1.000000</td>\n",
       "      <td>3769.000000</td>\n",
       "      <td>1198.000000</td>\n",
       "    </tr>\n",
       "    <tr>\n",
       "      <th>75%</th>\n",
       "      <td>7.877176e+17</td>\n",
       "      <td>12.000000</td>\n",
       "      <td>10.0</td>\n",
       "      <td>1.000000</td>\n",
       "      <td>10372.000000</td>\n",
       "      <td>2833.000000</td>\n",
       "    </tr>\n",
       "    <tr>\n",
       "      <th>max</th>\n",
       "      <td>8.924206e+17</td>\n",
       "      <td>14.000000</td>\n",
       "      <td>10.0</td>\n",
       "      <td>4.000000</td>\n",
       "      <td>156794.000000</td>\n",
       "      <td>78127.000000</td>\n",
       "    </tr>\n",
       "  </tbody>\n",
       "</table>\n",
       "</div>"
      ],
      "text/plain": [
       "           tweet_id  rating_numerator  rating_denominator      img_num  \\\n",
       "count  1.961000e+03       1961.000000              1961.0  1961.000000   \n",
       "mean   7.358030e+17         10.528700                10.0     1.202448   \n",
       "std    6.745542e+16          2.179024                 0.0     0.559987   \n",
       "min    6.660209e+17          0.000000                10.0     1.000000   \n",
       "25%    6.758457e+17         10.000000                10.0     1.000000   \n",
       "50%    7.087111e+17         11.000000                10.0     1.000000   \n",
       "75%    7.877176e+17         12.000000                10.0     1.000000   \n",
       "max    8.924206e+17         14.000000                10.0     4.000000   \n",
       "\n",
       "       favorite_count  retweet_count  \n",
       "count     1961.000000    1961.000000  \n",
       "mean      8348.349312    2478.276390  \n",
       "std      12278.989301    4433.814335  \n",
       "min         72.000000      11.000000  \n",
       "25%       1785.000000     554.000000  \n",
       "50%       3769.000000    1198.000000  \n",
       "75%      10372.000000    2833.000000  \n",
       "max     156794.000000   78127.000000  "
      ]
     },
     "execution_count": 245,
     "metadata": {},
     "output_type": "execute_result"
    }
   ],
   "source": [
    "df.describe()"
   ]
  },
  {
   "cell_type": "markdown",
   "metadata": {},
   "source": [
    "\n",
    "### Which rating was given to most of the dogs?"
   ]
  },
  {
   "cell_type": "code",
   "execution_count": 246,
   "metadata": {},
   "outputs": [
    {
     "data": {
      "image/png": "[encoded data removed]",
      "text/plain": [
       "<matplotlib.figure.Figure at 0x7fbfc53ab438>"
      ]
     },
     "metadata": {
      "needs_background": "light"
     },
     "output_type": "display_data"
    }
   ],
   "source": [
    "df['rating_numerator'].value_counts().sort_index().plot('bar')\n",
    "plt.title ('Rating Numerator Distribution', size=15)\n",
    "plt.xlabel('Rating Numerator')\n",
    "plt.ylabel('Number of Ratings')\n",
    "plt.plot();"
   ]
  },
  {
   "cell_type": "markdown",
   "metadata": {},
   "source": [
    "Most of the dogs get rating_numerator in between 10-13\n",
    "\n",
    "There is very few dogs even 1 or 2 with rating 0 and numerator rating as float"
   ]
  },
  {
   "cell_type": "markdown",
   "metadata": {},
   "source": [
    "\n",
    "### What are the 10 most frequent dog names?\n"
   ]
  },
  {
   "cell_type": "code",
   "execution_count": 247,
   "metadata": {},
   "outputs": [
    {
     "data": {
      "image/png": "[encoded data removed]",
      "text/plain": [
       "<matplotlib.figure.Figure at 0x7fbfc53dd860>"
      ]
     },
     "metadata": {
      "needs_background": "light"
     },
     "output_type": "display_data"
    }
   ],
   "source": [
    "df['name'].value_counts()[0:10].sort_values(ascending=False).plot(kind = 'bar')\n",
    "plt.ylabel('Number of Dogs')\n",
    "plt.title('Top 10 frequent dog names', size=15)\n",
    "plt.xlabel('Dog Names')\n",
    "plt.plot();"
   ]
  },
  {
   "cell_type": "markdown",
   "metadata": {},
   "source": [
    "Most of the dogs are of names: Charlie, Cooper, liver, Penny, Tucker, Lucy, Sadie, Winston, Daisy, Toby\n",
    "\n",
    "Also, check the count below:"
   ]
  },
  {
   "cell_type": "code",
   "execution_count": 248,
   "metadata": {},
   "outputs": [
    {
     "data": {
      "text/plain": [
       "Charlie    10\n",
       "Cooper     10\n",
       "Oliver     10\n",
       "Penny       9\n",
       "Tucker      9\n",
       "Lucy        9\n",
       "Sadie       8\n",
       "Winston     8\n",
       "Daisy       7\n",
       "Toby        7\n",
       "Name: name, dtype: int64"
      ]
     },
     "execution_count": 248,
     "metadata": {},
     "output_type": "execute_result"
    }
   ],
   "source": [
    "#Top 10 frequent dog names\n",
    "df['name'].value_counts()[0:10].sort_values(ascending=False)"
   ]
  },
  {
   "cell_type": "markdown",
   "metadata": {},
   "source": [
    "\n",
    "### What are the 10 most frequent predicted dog breeds?\n"
   ]
  },
  {
   "cell_type": "code",
   "execution_count": 253,
   "metadata": {},
   "outputs": [
    {
     "data": {
      "image/png": "[encoded data removed]",
      "text/plain": [
       "<matplotlib.figure.Figure at 0x7fbfc506f160>"
      ]
     },
     "metadata": {
      "needs_background": "light"
     },
     "output_type": "display_data"
    }
   ],
   "source": [
    "df['pred_breed'].value_counts()[0:10].sort_values(ascending=False).plot(kind = 'bar')\n",
    "plt.ylabel('Number of Breed Prediction')\n",
    "plt.title('Top 10 frequent dog breeds', size=15)\n",
    "plt.xlabel('Dog Breed')\n",
    "plt.plot();"
   ]
  },
  {
   "cell_type": "markdown",
   "metadata": {},
   "source": [
    "Most of the dogs have golden retriever, labrador retriever as breed which all are rated\n",
    "\n",
    "Please check the top 10 rated dog breeds below:"
   ]
  },
  {
   "cell_type": "code",
   "execution_count": 254,
   "metadata": {},
   "outputs": [
    {
     "data": {
      "text/plain": [
       "golden retriever      137\n",
       "labrador retriever     91\n",
       "pembroke               88\n",
       "chihuahua              74\n",
       "pug                    53\n",
       "chow                   39\n",
       "samoyed                39\n",
       "pomeranian             37\n",
       "toy poodle             36\n",
       "malamute               29\n",
       "Name: pred_breed, dtype: int64"
      ]
     },
     "execution_count": 254,
     "metadata": {},
     "output_type": "execute_result"
    }
   ],
   "source": [
    "#Top 10 frequent dog breeds\n",
    "df['pred_breed'].value_counts()[0:10].sort_values(ascending=False)"
   ]
  },
  {
   "cell_type": "markdown",
   "metadata": {},
   "source": [
    "## Findings of the analysis"
   ]
  },
  {
   "cell_type": "markdown",
   "metadata": {},
   "source": [
    "1. The pred_breed column is created based on the the confidence level of minimum 20% and 'p1_dog', 'p2_dog' and 'p3_dog' statements\n",
    "2. Based on dog types: doggo, floofer, pupper, puppo, 'doggo, puppo', 'doggo, pupper', 'doggo, floofer', only one categorical column is created named as 'stage'\n",
    "3. tweet_id is set as object type as it is not going to use for calculation.\n",
    "4. A Master dataframe is created using archive_clean, image_pred_clean, and tweet_counts_clean dataframes\n",
    "5. Dog Names Issue got rectified\n",
    "7. Inconsistency in pred_breed got removed\n",
    "8. All retweets get deleted to get unique tweets\n",
    "9. The columns such as in_reply_to_status_id, in_reply_to_user_id, retweeted_status_id, retweeted_status_user_id, and retweeted_status_timestamp is removed which is not needed\n",
    "10. Timestamp format got corrected to datetime format\n",
    "11. Extra HTML tags from source column get refracted\n",
    "12. Dog ratings get standardized for denom of 10."
   ]
  },
  {
   "cell_type": "code",
   "execution_count": 261,
   "metadata": {},
   "outputs": [
    {
     "data": {
      "text/plain": [
       "0"
      ]
     },
     "execution_count": 261,
     "metadata": {},
     "output_type": "execute_result"
    }
   ],
   "source": [
    "from subprocess import call\n",
    "call(['python', '-m', 'nbconvert', 'wrangle_act.ipynb'])"
   ]
  },
  {
   "cell_type": "code",
   "execution_count": null,
   "metadata": {},
   "outputs": [],
   "source": []
  }
 ],
 "metadata": {
  "kernelspec": {
   "display_name": "Python 3",
   "language": "python",
   "name": "python3"
  },
  "language_info": {
   "codemirror_mode": {
    "name": "ipython",
    "version": 3
   },
   "file_extension": ".py",
   "mimetype": "text/x-python",
   "name": "python",
   "nbconvert_exporter": "python",
   "pygments_lexer": "ipython3",
   "version": "3.6.3"
  }
 },
 "nbformat": 4,
 "nbformat_minor": 2
}
